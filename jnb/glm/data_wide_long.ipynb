{
  "nbformat": 4,
  "nbformat_minor": 0,
  "metadata": {
    "colab": {
      "provenance": []
    },
    "kernelspec": {
      "name": "ir",
      "display_name": "R"
    },
    "language_info": {
      "name": "R"
    }
  },
  "cells": [
    {
      "cell_type": "markdown",
      "source": [
        "[![Open In Colab](https://colab.research.google.com/assets/colab-badge.svg)](https://colab.research.google.com/github/nils-holmberg/socs-qmd/blob/main/jnb/glm/data_wide_long.ipynb)"
      ],
      "metadata": {
        "id": "l3vRpQCSx3-x"
      }
    },
    {
      "cell_type": "markdown",
      "source": [
        "# linear mixed effects using jamovi\n",
        "\n",
        "- https://www.youtube.com/watch?v=sIhaCBofWck\n",
        "- https://www.youtube.com/watch?v=mM6vgh9_6Jw\n",
        "- https://www.youtube.com/watch?v=ceAyleIjYQc"
      ],
      "metadata": {
        "id": "BBeKIqqO77lf"
      }
    },
    {
      "cell_type": "markdown",
      "source": [
        "# import data"
      ],
      "metadata": {
        "id": "yGlu2ii5zR4T"
      }
    },
    {
      "cell_type": "code",
      "source": [
        "library(tidyverse)\n"
      ],
      "metadata": {
        "id": "bH3miVqjsXap"
      },
      "execution_count": null,
      "outputs": []
    },
    {
      "cell_type": "code",
      "source": [
        "# Specify the file path\n",
        "file_path <- \"/content/genai-trust.tsv\"\n",
        "\n",
        "# Read the TSV file into a dataframe\n",
        "data <- read.table(file_path, header = TRUE, sep = \"\\t\", stringsAsFactors = FALSE)\n"
      ],
      "metadata": {
        "id": "Kwj-k0z2uie2"
      },
      "execution_count": null,
      "outputs": []
    },
    {
      "cell_type": "markdown",
      "source": [
        "# select sample"
      ],
      "metadata": {
        "id": "BcTuNl4_zVpq"
      }
    },
    {
      "cell_type": "code",
      "source": [
        "wide_data = data |> select(c(76,3,19,23,27,75)) |> rename(age_group=VAR01)\n",
        "\n",
        "wide_data |> head()"
      ],
      "metadata": {
        "colab": {
          "base_uri": "https://localhost:8080/",
          "height": 286
        },
        "id": "5Wh1G6vfvO-5",
        "outputId": "30a0ba95-189d-4624-d8a6-34cada75ad53"
      },
      "execution_count": null,
      "outputs": [
        {
          "output_type": "display_data",
          "data": {
            "text/html": [
              "<table class=\"dataframe\">\n",
              "<caption>A data.frame: 6 × 6</caption>\n",
              "<thead>\n",
              "\t<tr><th></th><th scope=col>participant</th><th scope=col>age_group</th><th scope=col>VAR17_1</th><th scope=col>VAR18_1</th><th scope=col>VAR19_1</th><th scope=col>condition</th></tr>\n",
              "\t<tr><th></th><th scope=col>&lt;int&gt;</th><th scope=col>&lt;int&gt;</th><th scope=col>&lt;int&gt;</th><th scope=col>&lt;int&gt;</th><th scope=col>&lt;int&gt;</th><th scope=col>&lt;chr&gt;</th></tr>\n",
              "</thead>\n",
              "<tbody>\n",
              "\t<tr><th scope=row>1</th><td>1</td><td>5</td><td>5</td><td>6</td><td>5</td><td>control</td></tr>\n",
              "\t<tr><th scope=row>2</th><td>2</td><td>2</td><td>3</td><td>4</td><td>5</td><td>control</td></tr>\n",
              "\t<tr><th scope=row>3</th><td>3</td><td>5</td><td>5</td><td>6</td><td>5</td><td>control</td></tr>\n",
              "\t<tr><th scope=row>4</th><td>4</td><td>1</td><td>5</td><td>6</td><td>5</td><td>control</td></tr>\n",
              "\t<tr><th scope=row>5</th><td>5</td><td>3</td><td>5</td><td>5</td><td>5</td><td>control</td></tr>\n",
              "\t<tr><th scope=row>6</th><td>6</td><td>2</td><td>4</td><td>6</td><td>4</td><td>control</td></tr>\n",
              "</tbody>\n",
              "</table>\n"
            ],
            "text/markdown": "\nA data.frame: 6 × 6\n\n| <!--/--> | participant &lt;int&gt; | age_group &lt;int&gt; | VAR17_1 &lt;int&gt; | VAR18_1 &lt;int&gt; | VAR19_1 &lt;int&gt; | condition &lt;chr&gt; |\n|---|---|---|---|---|---|---|\n| 1 | 1 | 5 | 5 | 6 | 5 | control |\n| 2 | 2 | 2 | 3 | 4 | 5 | control |\n| 3 | 3 | 5 | 5 | 6 | 5 | control |\n| 4 | 4 | 1 | 5 | 6 | 5 | control |\n| 5 | 5 | 3 | 5 | 5 | 5 | control |\n| 6 | 6 | 2 | 4 | 6 | 4 | control |\n\n",
            "text/latex": "A data.frame: 6 × 6\n\\begin{tabular}{r|llllll}\n  & participant & age\\_group & VAR17\\_1 & VAR18\\_1 & VAR19\\_1 & condition\\\\\n  & <int> & <int> & <int> & <int> & <int> & <chr>\\\\\n\\hline\n\t1 & 1 & 5 & 5 & 6 & 5 & control\\\\\n\t2 & 2 & 2 & 3 & 4 & 5 & control\\\\\n\t3 & 3 & 5 & 5 & 6 & 5 & control\\\\\n\t4 & 4 & 1 & 5 & 6 & 5 & control\\\\\n\t5 & 5 & 3 & 5 & 5 & 5 & control\\\\\n\t6 & 6 & 2 & 4 & 6 & 4 & control\\\\\n\\end{tabular}\n",
            "text/plain": [
              "  participant age_group VAR17_1 VAR18_1 VAR19_1 condition\n",
              "1 1           5         5       6       5       control  \n",
              "2 2           2         3       4       5       control  \n",
              "3 3           5         5       6       5       control  \n",
              "4 4           1         5       6       5       control  \n",
              "5 5           3         5       5       5       control  \n",
              "6 6           2         4       6       4       control  "
            ]
          },
          "metadata": {}
        }
      ]
    },
    {
      "cell_type": "code",
      "source": [
        "dim(wide_data)"
      ],
      "metadata": {
        "colab": {
          "base_uri": "https://localhost:8080/",
          "height": 34
        },
        "id": "igS5fxPcy_wS",
        "outputId": "ea0c81fa-10e2-4963-d013-090070ca290a"
      },
      "execution_count": null,
      "outputs": [
        {
          "output_type": "display_data",
          "data": {
            "text/html": [
              "<style>\n",
              ".list-inline {list-style: none; margin:0; padding: 0}\n",
              ".list-inline>li {display: inline-block}\n",
              ".list-inline>li:not(:last-child)::after {content: \"\\00b7\"; padding: 0 .5ex}\n",
              "</style>\n",
              "<ol class=list-inline><li>200</li><li>6</li></ol>\n"
            ],
            "text/markdown": "1. 200\n2. 6\n\n\n",
            "text/latex": "\\begin{enumerate*}\n\\item 200\n\\item 6\n\\end{enumerate*}\n",
            "text/plain": [
              "[1] 200   6"
            ]
          },
          "metadata": {}
        }
      ]
    },
    {
      "cell_type": "markdown",
      "source": [
        "# transform data"
      ],
      "metadata": {
        "id": "0ja0ykoSzZAE"
      }
    },
    {
      "cell_type": "code",
      "source": [
        "long_data = wide_data %>%\n",
        "  pivot_longer(cols = starts_with(\"VAR\"),\n",
        "               names_to = \"name\",\n",
        "               values_to = \"value\")\n",
        "\n",
        "long_data |> head()"
      ],
      "metadata": {
        "colab": {
          "base_uri": "https://localhost:8080/",
          "height": 286
        },
        "id": "Oqamx9sntw06",
        "outputId": "d7c22771-0c80-4ea3-ef32-09b5c5df3232"
      },
      "execution_count": null,
      "outputs": [
        {
          "output_type": "display_data",
          "data": {
            "text/html": [
              "<table class=\"dataframe\">\n",
              "<caption>A tibble: 6 × 5</caption>\n",
              "<thead>\n",
              "\t<tr><th scope=col>participant</th><th scope=col>age_group</th><th scope=col>condition</th><th scope=col>name</th><th scope=col>value</th></tr>\n",
              "\t<tr><th scope=col>&lt;int&gt;</th><th scope=col>&lt;int&gt;</th><th scope=col>&lt;chr&gt;</th><th scope=col>&lt;chr&gt;</th><th scope=col>&lt;int&gt;</th></tr>\n",
              "</thead>\n",
              "<tbody>\n",
              "\t<tr><td>1</td><td>5</td><td>control</td><td>VAR17_1</td><td>5</td></tr>\n",
              "\t<tr><td>1</td><td>5</td><td>control</td><td>VAR18_1</td><td>6</td></tr>\n",
              "\t<tr><td>1</td><td>5</td><td>control</td><td>VAR19_1</td><td>5</td></tr>\n",
              "\t<tr><td>2</td><td>2</td><td>control</td><td>VAR17_1</td><td>3</td></tr>\n",
              "\t<tr><td>2</td><td>2</td><td>control</td><td>VAR18_1</td><td>4</td></tr>\n",
              "\t<tr><td>2</td><td>2</td><td>control</td><td>VAR19_1</td><td>5</td></tr>\n",
              "</tbody>\n",
              "</table>\n"
            ],
            "text/markdown": "\nA tibble: 6 × 5\n\n| participant &lt;int&gt; | age_group &lt;int&gt; | condition &lt;chr&gt; | name &lt;chr&gt; | value &lt;int&gt; |\n|---|---|---|---|---|\n| 1 | 5 | control | VAR17_1 | 5 |\n| 1 | 5 | control | VAR18_1 | 6 |\n| 1 | 5 | control | VAR19_1 | 5 |\n| 2 | 2 | control | VAR17_1 | 3 |\n| 2 | 2 | control | VAR18_1 | 4 |\n| 2 | 2 | control | VAR19_1 | 5 |\n\n",
            "text/latex": "A tibble: 6 × 5\n\\begin{tabular}{lllll}\n participant & age\\_group & condition & name & value\\\\\n <int> & <int> & <chr> & <chr> & <int>\\\\\n\\hline\n\t 1 & 5 & control & VAR17\\_1 & 5\\\\\n\t 1 & 5 & control & VAR18\\_1 & 6\\\\\n\t 1 & 5 & control & VAR19\\_1 & 5\\\\\n\t 2 & 2 & control & VAR17\\_1 & 3\\\\\n\t 2 & 2 & control & VAR18\\_1 & 4\\\\\n\t 2 & 2 & control & VAR19\\_1 & 5\\\\\n\\end{tabular}\n",
            "text/plain": [
              "  participant age_group condition name    value\n",
              "1 1           5         control   VAR17_1 5    \n",
              "2 1           5         control   VAR18_1 6    \n",
              "3 1           5         control   VAR19_1 5    \n",
              "4 2           2         control   VAR17_1 3    \n",
              "5 2           2         control   VAR18_1 4    \n",
              "6 2           2         control   VAR19_1 5    "
            ]
          },
          "metadata": {}
        }
      ]
    },
    {
      "cell_type": "code",
      "source": [
        "dim(long_data)"
      ],
      "metadata": {
        "colab": {
          "base_uri": "https://localhost:8080/",
          "height": 34
        },
        "id": "9ByOJ5JpthIf",
        "outputId": "b865d7e8-f0e9-4123-bd63-aa96cc9d6949"
      },
      "execution_count": null,
      "outputs": [
        {
          "output_type": "display_data",
          "data": {
            "text/html": [
              "<style>\n",
              ".list-inline {list-style: none; margin:0; padding: 0}\n",
              ".list-inline>li {display: inline-block}\n",
              ".list-inline>li:not(:last-child)::after {content: \"\\00b7\"; padding: 0 .5ex}\n",
              "</style>\n",
              "<ol class=list-inline><li>600</li><li>5</li></ol>\n"
            ],
            "text/markdown": "1. 600\n2. 5\n\n\n",
            "text/latex": "\\begin{enumerate*}\n\\item 600\n\\item 5\n\\end{enumerate*}\n",
            "text/plain": [
              "[1] 600   5"
            ]
          },
          "metadata": {}
        }
      ]
    },
    {
      "cell_type": "code",
      "source": [],
      "metadata": {
        "id": "aOSldbp5zKu1"
      },
      "execution_count": null,
      "outputs": []
    }
  ]
}