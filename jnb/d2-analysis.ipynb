{
  "cells": [
    {
      "cell_type": "raw",
      "metadata": {},
      "source": [
        "---\n",
        "title: \"Day 2: Getting started with data analysis\"\n",
        "---"
      ]
    },
    {
      "cell_type": "markdown",
      "metadata": {},
      "source": [
        "{{< include _include_d2.qmd >}}"
      ]
    },
    {
      "cell_type": "code",
      "metadata": {},
      "source": [
        "#| eval: true\n",
        "#| echo: false\n",
        "#| output: false\n",
        "\n",
        "import pandas as pd\n",
        "df = pd.read_csv('/home/sol-nhl/rnd/d/cca-cce/csv/iris.tsv', sep='\\t')"
      ],
      "execution_count": null,
      "outputs": []
    },
    {
      "cell_type": "markdown",
      "metadata": {},
      "source": [
        "## Import data files\n",
        "\n",
        "To read a CSV file into a Pandas DataFrame, you'll first need to install the Pandas library if you haven't already. You can install it using pip with the command `pip install pandas`. Once installed, you can use the `read_csv()` function to load the data from the file into a DataFrame. The function takes the file path as an argument and returns a DataFrame containing the data. Here's how you can read the uploaded file, \"iris.csv\", into a Pandas DataFrame:\n",
        "\n",
        "```python\n",
        "import pandas as pd\n",
        "\n",
        "# Read the CSV file into a DataFrame\n",
        "df = pd.read_csv('/path/to/your/iris.csv')\n",
        "\n",
        "# Display the first few rows of the DataFrame\n",
        "print(df.head())\n",
        "```\n",
        "\n",
        "Replace `'/path/to/your/iris.csv'` with the actual path where your file is located. This will give you a DataFrame `df` that contains all the data from \"iris.csv\".\n",
        "\n",
        "## Selecting and filtering\n",
        "\n",
        "In Pandas, two basic yet powerful operations are selecting specific columns and filtering rows. To select columns, you can use the syntax `df[['column1', 'column2']]`, which creates a new DataFrame containing only the selected columns. For example:"
      ]
    },
    {
      "cell_type": "code",
      "metadata": {},
      "source": [
        "#| eval: true\n",
        "#| echo: true\n",
        "#| output: true\n",
        "\n",
        "# To select 'sepal_length' and 'species' columns\n",
        "selected_columns = df[['sepal_length', 'species']]\n",
        "# Show the first few rows of the resulting DataFrame\n",
        "selected_columns.head()"
      ],
      "execution_count": null,
      "outputs": []
    },
    {
      "cell_type": "markdown",
      "metadata": {},
      "source": [
        "To filter rows based on a condition, boolean indexing can be employed. The syntax `df[df['column'] > value]` filters rows where the values in the specified column meet the condition. For instance:"
      ]
    },
    {
      "cell_type": "code",
      "metadata": {},
      "source": [
        "#| eval: true\n",
        "#| echo: true\n",
        "#| output: true\n",
        "\n",
        "# To filter rows where 'sepal_length' is greater than 5\n",
        "filtered_rows = df[df['sepal_length'] > 5]\n",
        "# Show the first few rows of the resulting DataFrame\n",
        "filtered_rows.head()"
      ],
      "execution_count": null,
      "outputs": []
    },
    {
      "cell_type": "markdown",
      "metadata": {},
      "source": [
        "Both operations return new DataFrames, which can then be used for further analysis.\n",
        "\n",
        "## Grouping and summarizing\n",
        "\n",
        "Grouping and summarizing data in Pandas is primarily achieved using the `groupby()` function. This function allows you to group rows based on one or multiple columns, and then you can apply aggregation methods like `mean()`, `sum()`, or `count()` to summarize the data. For instance, if you want to find the average measurements for each species in the `df` DataFrame, you can group by the 'species' column and then apply the `mean()` function to get the average for each numerical column.\n",
        "\n",
        "Here's an inline code example:"
      ]
    },
    {
      "cell_type": "code",
      "metadata": {},
      "source": [
        "#| eval: true\n",
        "#| echo: true\n",
        "#| output: true\n",
        "\n",
        "# Group by 'species' and calculate the mean for each numerical column\n",
        "grouped_by_species_mean = df.groupby('species').mean()\n",
        "# Show the first few rows of the resulting DataFrame\n",
        "grouped_by_species_mean.head()"
      ],
      "execution_count": null,
      "outputs": []
    },
    {
      "cell_type": "markdown",
      "metadata": {},
      "source": [
        "This will give you a new DataFrame that contains the summarized data, facilitating easier comparisons between different groups.\n",
        "\n",
        "## Statistical analysis\n",
        "\n",
        "Regression analysis is used to explore the relationship between dependent and independent variables. In Python, Scikit-learn is a popular library for performing regression. You typically use the `LinearRegression` class to create a regression model. After separating your features and target variables, you can fit the model using the `fit()` method and make predictions with `predict()`. For example, if you want to predict 'petal_length' based on 'sepal_length' in the `df` DataFrame:"
      ]
    },
    {
      "cell_type": "code",
      "metadata": {},
      "source": [
        "#| eval: true\n",
        "#| echo: true\n",
        "#| output: true\n",
        "\n",
        "from sklearn.linear_model import LinearRegression\n",
        "import pandas as pd\n",
        "\n",
        "# Prepare the features and target variable\n",
        "X = df[['sepal_length']]  # Feature (independent variable)\n",
        "y = df['petal_length']  # Target (dependent variable)\n",
        "\n",
        "# Create a LinearRegression object\n",
        "model = LinearRegression()\n",
        "\n",
        "# Fit the model to the data\n",
        "model.fit(X, y)\n",
        "\n",
        "# Make predictions\n",
        "predictions = model.predict(X)\n",
        "\n",
        "# Create a DataFrame to display the analysis result\n",
        "result_df = pd.DataFrame({'Actual': y, 'Predicted': predictions})\n",
        "# Show the first few rows of the result DataFrame\n",
        "result_df.head()"
      ],
      "execution_count": null,
      "outputs": []
    },
    {
      "cell_type": "markdown",
      "metadata": {},
      "source": [
        "This will create a DataFrame `result_df` that contains both the actual and predicted 'petal_length', facilitating the evaluation of the model's performance.\n"
      ]
    }
  ],
  "metadata": {
    "kernelspec": {
      "name": "python3",
      "language": "python",
      "display_name": "Python 3 (ipykernel)"
    }
  },
  "nbformat": 4,
  "nbformat_minor": 4
}