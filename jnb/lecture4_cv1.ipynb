{
  "nbformat": 4,
  "nbformat_minor": 0,
  "metadata": {
    "colab": {
      "provenance": []
    },
    "kernelspec": {
      "name": "python3",
      "display_name": "Python 3"
    },
    "language_info": {
      "name": "python"
    }
  },
  "cells": [
    {
      "cell_type": "markdown",
      "source": [
        "[![Open In Colab](https://colab.research.google.com/assets/colab-badge.svg)](https://colab.research.google.com/github/nils-holmberg/socs-qmd/blob/main/jnb/lecture4_cv1.ipynb)"
      ],
      "metadata": {
        "id": "4kdGip6tiQQ9"
      }
    },
    {
      "cell_type": "markdown",
      "source": [
        "# image urls"
      ],
      "metadata": {
        "id": "qUL8OWn7HkGq"
      }
    },
    {
      "cell_type": "code",
      "execution_count": null,
      "metadata": {
        "id": "XCQZuCjy5DNn"
      },
      "outputs": [],
      "source": [
        "import numpy as np\n",
        "import pandas as pd\n",
        "import seaborn as sns\n",
        "import matplotlib.pyplot as plt\n"
      ]
    },
    {
      "cell_type": "code",
      "source": [
        "#!pip install gdown\n",
        "!gdown https://drive.google.com/uc?id=1EMzJxxoBaN_NbvF7xhoc09K82vQ6H_LX"
      ],
      "metadata": {
        "id": "QcHrqjKr5q8j"
      },
      "execution_count": null,
      "outputs": []
    },
    {
      "cell_type": "code",
      "source": [
        "fp = \"content.xlsx\"\n",
        "df = pd.read_excel(fp, header=None, names=['id', 'image', 'text'])\n",
        "df.head()"
      ],
      "metadata": {
        "id": "w7fh86Xk5uaK"
      },
      "execution_count": null,
      "outputs": []
    },
    {
      "cell_type": "code",
      "source": [
        "import requests\n",
        "import os\n",
        "\n",
        "# Directory to save images\n",
        "image_dir = 'ibs'\n",
        "if not os.path.exists(image_dir):\n",
        "    os.makedirs(image_dir)\n",
        "\n",
        "# Function to download an image\n",
        "def download_image(url, folder):\n",
        "    response = requests.get(url)\n",
        "    if response.status_code == 200:\n",
        "        # Extract image file name\n",
        "        filename = url.split('/')[-1]\n",
        "        file_path = os.path.join(folder, filename)\n",
        "        with open(file_path, 'wb') as f:\n",
        "            f.write(response.content)\n",
        "        print(f\"Downloaded {filename}\")\n",
        "    else:\n",
        "        print(f\"Failed to download {url}\")\n",
        "\n",
        "# Download images from URLs in the DataFrame\n",
        "for url in df['image']:\n",
        "    download_image(url, image_dir)\n"
      ],
      "metadata": {
        "id": "AhcdjMjU5Hae"
      },
      "execution_count": null,
      "outputs": []
    },
    {
      "cell_type": "markdown",
      "source": [
        "# image archive"
      ],
      "metadata": {
        "id": "QbTgBa1VHtAm"
      }
    },
    {
      "cell_type": "code",
      "source": [
        "!gdown https://drive.google.com/uc?id=1sBsckDIyQJ-zTsEpjCntYMIJcbBpF3wk"
      ],
      "metadata": {
        "id": "ujnKyCaC6pLx"
      },
      "execution_count": null,
      "outputs": []
    },
    {
      "cell_type": "code",
      "source": [
        "!unzip content-images.zip"
      ],
      "metadata": {
        "id": "9CaJWwip7J8R"
      },
      "execution_count": null,
      "outputs": []
    },
    {
      "cell_type": "markdown",
      "source": [
        "# display images"
      ],
      "metadata": {
        "id": "G1YXykOBHzSm"
      }
    },
    {
      "cell_type": "code",
      "source": [
        "import cv2\n",
        "from google.colab.patches import cv2_imshow\n",
        "\n",
        "# Load an image from file\n",
        "image_path = 'images/ibs-92.jpg'\n",
        "image = cv2.imread(image_path)\n",
        "\n",
        "# Check if the image was successfully loaded\n",
        "if image is not None:\n",
        "    # Display the image\n",
        "    cv2_imshow(image)\n",
        "else:\n",
        "    print(\"Error: Unable to load image.\")\n"
      ],
      "metadata": {
        "id": "9CK9KAnPAnGX"
      },
      "execution_count": null,
      "outputs": []
    },
    {
      "cell_type": "code",
      "source": [
        "import cv2\n",
        "import matplotlib.pyplot as plt\n",
        "import seaborn as sns\n",
        "\n",
        "# Read the image using OpenCV\n",
        "image_path = 'images/ibs-92.jpg'  # Replace with your image path\n",
        "image = cv2.imread(image_path)\n",
        "\n",
        "# Convert the color scheme from BGR to RGB\n",
        "image_rgb = cv2.cvtColor(image, cv2.COLOR_BGR2RGB)\n",
        "\n",
        "# Use Seaborn to improve plot aesthetics\n",
        "sns.set()  # Apply Seaborn styles\n",
        "\n",
        "# Display the image\n",
        "plt.imshow(image_rgb)\n",
        "plt.axis('off')  # Hide the axis\n",
        "plt.show()\n"
      ],
      "metadata": {
        "id": "AkKv3B-QCvqT"
      },
      "execution_count": null,
      "outputs": []
    },
    {
      "cell_type": "markdown",
      "source": [
        "# describe images"
      ],
      "metadata": {
        "id": "S4J7kcLAH8bw"
      }
    },
    {
      "cell_type": "code",
      "source": [
        "import os\n",
        "import cv2\n",
        "import pandas as pd\n",
        "\n",
        "# Path to the directory containing images\n",
        "directory = 'images'  # Replace with your directory path\n",
        "\n",
        "# Initialize a list to store image data\n",
        "image_data = []\n",
        "\n",
        "# Iterate through each file in the directory\n",
        "for filename in os.listdir(directory):\n",
        "    if filename.lower().endswith(('.png', '.jpg', '.jpeg')):  # Add other image formats if needed\n",
        "        # Read the image\n",
        "        img_path = os.path.join(directory, filename)\n",
        "        img = cv2.imread(img_path)\n",
        "\n",
        "        # Extract image dimensions and channels\n",
        "        height, width, channels = img.shape\n",
        "\n",
        "        # Append the data to the list\n",
        "        image_data.append({'Filename': filename, 'Width': width, 'Height': height, 'Channels': channels})\n",
        "\n",
        "# Create a DataFrame from the image data\n",
        "image_df = pd.DataFrame(image_data)\n",
        "\n",
        "# Display the DataFrame\n",
        "image_df.head()\n"
      ],
      "metadata": {
        "id": "-ZHrP_s3DN9_"
      },
      "execution_count": null,
      "outputs": []
    },
    {
      "cell_type": "markdown",
      "source": [
        "# construct images"
      ],
      "metadata": {
        "id": "FGR7elkAHcHU"
      }
    },
    {
      "cell_type": "code",
      "source": [
        "import numpy as np\n",
        "import cv2\n",
        "import seaborn as sns\n",
        "import matplotlib.pyplot as plt\n",
        "\n",
        "# Create an empty (black) 256x256 image\n",
        "empty_image = np.zeros((256, 256, 3), dtype=np.uint8)\n",
        "\n",
        "# Display the image using seaborn\n",
        "sns.set()  # For a nicer plot style\n",
        "plt.imshow(cv2.cvtColor(empty_image, cv2.COLOR_BGR2RGB))  # Convert BGR to RGB for correct color representation\n",
        "plt.axis('off')  # Hide axis\n",
        "plt.show()"
      ],
      "metadata": {
        "id": "gFubdDbGFZMl"
      },
      "execution_count": null,
      "outputs": []
    },
    {
      "cell_type": "markdown",
      "source": [
        "# manipulate color channels"
      ],
      "metadata": {
        "id": "BLiWH5eBIQLd"
      }
    },
    {
      "cell_type": "code",
      "source": [
        "import numpy as np\n",
        "import seaborn as sns\n",
        "import matplotlib.pyplot as plt\n",
        "\n",
        "# Function to create an image with specified RGB values\n",
        "def create_rgb_image(red, green, blue):\n",
        "    image = np.zeros((256, 256, 3), dtype=np.uint8)\n",
        "    image[:, :, 0] = red    # Red channel\n",
        "    image[:, :, 1] = green  # Green channel\n",
        "    image[:, :, 2] = blue   # Blue channel\n",
        "    return image\n",
        "\n",
        "# Creating images for each combination\n",
        "combinations = [\n",
        "    (0, 0, 0),    # Black\n",
        "    (255, 0, 0),  # Red\n",
        "    (0, 255, 0),  # Green\n",
        "    (0, 0, 255),  # Blue\n",
        "    (255, 255, 0),# Yellow\n",
        "    (255, 0, 255),# Magenta\n",
        "    (0, 255, 255),# Cyan\n",
        "    (255, 255, 255)# White\n",
        "]\n",
        "\n",
        "images = [create_rgb_image(*combo) for combo in combinations]\n",
        "\n",
        "# Plotting\n",
        "sns.set()  # For a nicer plot style\n",
        "plt.figure(figsize=(12, 6))\n",
        "\n",
        "for i, img in enumerate(images):\n",
        "    plt.subplot(2, 4, i + 1)\n",
        "    plt.imshow(img)\n",
        "    plt.axis('off')\n",
        "    plt.title(f'R:{combinations[i][0]} G:{combinations[i][1]} B:{combinations[i][2]}')\n",
        "\n",
        "plt.tight_layout()\n",
        "plt.show()\n"
      ],
      "metadata": {
        "id": "If5CQxwqID-a"
      },
      "execution_count": null,
      "outputs": []
    },
    {
      "cell_type": "markdown",
      "source": [
        "# manipulate shapes"
      ],
      "metadata": {
        "id": "bxQRQmFhIhbU"
      }
    },
    {
      "cell_type": "code",
      "source": [
        "import numpy as np\n",
        "import cv2\n",
        "import seaborn as sns\n",
        "import matplotlib.pyplot as plt\n",
        "\n",
        "# Start with a black image\n",
        "image = np.zeros((256, 256, 3), dtype=np.uint8)\n",
        "\n",
        "# List to store each step\n",
        "images = [image.copy()]\n",
        "\n",
        "# Add a red line\n",
        "image_with_line = image.copy()\n",
        "cv2.line(image_with_line, (50, 50), (200, 50), (255, 0, 0), 3)  # Red line\n",
        "images.append(image_with_line)\n",
        "\n",
        "# Add a green rectangle\n",
        "image_with_rectangle = image_with_line.copy()\n",
        "cv2.rectangle(image_with_rectangle, (60, 80), (180, 150), (0, 255, 0), 3)  # Green rectangle\n",
        "images.append(image_with_rectangle)\n",
        "\n",
        "# Add a blue oval\n",
        "image_with_oval = image_with_rectangle.copy()\n",
        "cv2.ellipse(image_with_oval, (120, 200), (60, 30), 0, 0, 360, (0, 0, 255), -1)  # Blue oval\n",
        "images.append(image_with_oval)\n",
        "\n",
        "# Plotting\n",
        "sns.set()  # For a nicer plot style\n",
        "plt.figure(figsize=(12, 6))\n",
        "\n",
        "shape_titles = [\"Original\", \"With Line\", \"With Rectangle\", \"With Oval\"]\n",
        "for i, img in enumerate(images):\n",
        "    plt.subplot(1, len(images), i + 1)\n",
        "    plt.imshow(cv2.cvtColor(img, cv2.COLOR_BGR2RGB))  # Convert BGR to RGB\n",
        "    plt.axis('off')\n",
        "    plt.title(shape_titles[i])\n",
        "\n",
        "plt.tight_layout()\n",
        "plt.show()\n"
      ],
      "metadata": {
        "id": "OyDcg9ZSIXM-"
      },
      "execution_count": null,
      "outputs": []
    },
    {
      "cell_type": "markdown",
      "source": [
        "# manipulate pixel regions"
      ],
      "metadata": {
        "id": "gBKMfPuUI9oV"
      }
    },
    {
      "cell_type": "code",
      "source": [
        "import numpy as np\n",
        "import seaborn as sns\n",
        "import matplotlib.pyplot as plt\n",
        "\n",
        "# Create an initial black image\n",
        "black_image = np.zeros((256, 256, 3), dtype=np.uint8)\n",
        "\n",
        "# Function to add a colored square to an existing image at a specified position\n",
        "def add_square_to_image(image, color, position, square_size=50):\n",
        "    x_start, y_start = position\n",
        "    image_with_square = image.copy()\n",
        "    image_with_square[y_start:y_start + square_size, x_start:x_start + square_size] = color\n",
        "    return image_with_square\n",
        "\n",
        "# Add a red square in the top left corner\n",
        "red = [255, 0, 0]\n",
        "image_red_square = add_square_to_image(black_image, red, (0, 0))\n",
        "\n",
        "# Plotting both images side by side\n",
        "sns.set()  # For a nicer plot style\n",
        "plt.figure(figsize=(10, 5))\n",
        "\n",
        "# Plot original black image\n",
        "plt.subplot(1, 2, 1)\n",
        "plt.imshow(black_image)\n",
        "plt.axis('off')\n",
        "plt.title(\"Original Black Image\")\n",
        "\n",
        "# Plot image with red square\n",
        "plt.subplot(1, 2, 2)\n",
        "plt.imshow(image_red_square)\n",
        "plt.axis('off')\n",
        "plt.title(\"Image with Red Square\")\n",
        "\n",
        "plt.tight_layout()\n",
        "plt.show()\n"
      ],
      "metadata": {
        "id": "yE28YheqIj2S"
      },
      "execution_count": null,
      "outputs": []
    },
    {
      "cell_type": "markdown",
      "source": [
        "# image features"
      ],
      "metadata": {
        "id": "3H62q5HPNBuc"
      }
    },
    {
      "cell_type": "code",
      "source": [
        "import cv2\n",
        "import numpy as np\n",
        "import matplotlib.pyplot as plt\n",
        "import seaborn as sns\n",
        "\n",
        "# Read the image\n",
        "image = cv2.imread('images/ibs-92.jpg')\n",
        "\n",
        "# Calculate color histograms for each channel\n",
        "hist_r = cv2.calcHist([image], [0], None, [256], [0, 256])\n",
        "hist_g = cv2.calcHist([image], [1], None, [256], [0, 256])\n",
        "hist_b = cv2.calcHist([image], [2], None, [256], [0, 256])\n",
        "\n",
        "# Normalize histograms\n",
        "hist_r /= hist_r.sum()\n",
        "hist_g /= hist_g.sum()\n",
        "hist_b /= hist_b.sum()\n",
        "\n",
        "# Create subplots for the original image and histograms\n",
        "fig, axes = plt.subplots(1, 2, figsize=(12, 4))\n",
        "\n",
        "# Plot the original image\n",
        "axes[0].imshow(cv2.cvtColor(image, cv2.COLOR_BGR2RGB))\n",
        "axes[0].set_title('Original Image')\n",
        "axes[0].axis('off')\n",
        "\n",
        "# Plot the color histograms using Seaborn\n",
        "sns.lineplot(x=np.arange(256), y=hist_r.squeeze(), color='red', ax=axes[1], label='Red')\n",
        "sns.lineplot(x=np.arange(256), y=hist_g.squeeze(), color='green', ax=axes[1], label='Green')\n",
        "sns.lineplot(x=np.arange(256), y=hist_b.squeeze(), color='blue', ax=axes[1], label='Blue')\n",
        "axes[1].set_title('Color Histograms')\n",
        "axes[1].set_xlabel('Pixel Value')\n",
        "axes[1].set_ylabel('Frequency')\n",
        "axes[1].legend()\n",
        "\n",
        "# Show the plots\n",
        "plt.tight_layout()\n",
        "plt.show()\n"
      ],
      "metadata": {
        "id": "8eRXDmKMI70M"
      },
      "execution_count": null,
      "outputs": []
    },
    {
      "cell_type": "code",
      "source": [
        "import cv2\n",
        "import numpy as np\n",
        "from google.colab.patches import cv2_imshow\n",
        "\n",
        "# Read the image\n",
        "image = cv2.imread('images/ibs-92.jpg', cv2.IMREAD_GRAYSCALE)\n",
        "\n",
        "# Define edge detection settings\n",
        "edge_detection_settings = [\n",
        "    ('Canny', cv2.Canny(image, 50, 150)),\n",
        "#    ('Laplacian', cv2.Laplacian(image, cv2.CV_64F)),\n",
        "    ('Sobel_X', cv2.Sobel(image, cv2.CV_64F, 1, 0, ksize=5)),\n",
        "    ('Sobel_Y', cv2.Sobel(image, cv2.CV_64F, 0, 1, ksize=5))\n",
        "]\n",
        "\n",
        "# Iterate through edge detection settings\n",
        "for setting_name, edges in edge_detection_settings:\n",
        "    # Convert the edges to binary (keeping them in 0-255 range)\n",
        "    edges_binary = np.where(edges > 0, 255, 0).astype(np.uint8)\n",
        "\n",
        "    # Count the number of white edge pixels\n",
        "    white_pixel_count = cv2.countNonZero(edges_binary)\n",
        "\n",
        "    # Concatenate the original image and binary edge image horizontally\n",
        "    concatenated_image = np.hstack((image, edges_binary))\n",
        "\n",
        "    # Display the concatenated image using cv2_imshow\n",
        "    print(f'Edge Detection Algorithm: {setting_name}')\n",
        "    cv2_imshow(concatenated_image)\n",
        "    print(f'Number of white edge pixels: {white_pixel_count}\\n')\n",
        "\n",
        "    # Save the concatenated image with the specified filename prefix\n",
        "    filename = f'edges_{setting_name}.jpg'\n",
        "    cv2.imwrite(filename, concatenated_image)\n",
        "\n",
        "    print(f'Saved as {filename}\\n')\n"
      ],
      "metadata": {
        "id": "grITOIWwJyok"
      },
      "execution_count": null,
      "outputs": []
    },
    {
      "cell_type": "markdown",
      "source": [
        "# kernel images and convolution"
      ],
      "metadata": {
        "id": "oQZjhc_vSd82"
      }
    },
    {
      "cell_type": "code",
      "source": [
        "import numpy as np\n",
        "import seaborn as sns\n",
        "import matplotlib.pyplot as plt\n",
        "\n",
        "# Horizontal Sobel Kernel (detects vertical edges)\n",
        "sobel_x = np.array([[-1, 0, 1],\n",
        "                    [-2, 0, 2],\n",
        "                    [-1, 0, 1]])\n",
        "\n",
        "# Vertical Sobel Kernel (detects horizontal edges)\n",
        "sobel_y = np.array([[-1, -2, -1],\n",
        "                    [ 0,  0,  0],\n",
        "                    [ 1,  2,  1]])\n",
        "\n",
        "# Plot the kernels\n",
        "fig, ax = plt.subplots(1, 2, figsize=(10, 5))\n",
        "sns.heatmap(sobel_x, annot=True, cmap='coolwarm', ax=ax[0], cbar=False)\n",
        "ax[0].set_title('Horizontal Sobel Kernel')\n",
        "sns.heatmap(sobel_y, annot=True, cmap='coolwarm', ax=ax[1], cbar=False)\n",
        "ax[1].set_title('Vertical Sobel Kernel')\n",
        "plt.show()\n"
      ],
      "metadata": {
        "id": "Bbgm3a6DLcgN"
      },
      "execution_count": null,
      "outputs": []
    },
    {
      "cell_type": "code",
      "source": [],
      "metadata": {
        "id": "fIGlHND8SI64"
      },
      "execution_count": null,
      "outputs": []
    }
  ]
}