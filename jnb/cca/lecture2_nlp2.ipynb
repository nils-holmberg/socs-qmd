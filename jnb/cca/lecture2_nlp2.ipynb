{
  "nbformat": 4,
  "nbformat_minor": 0,
  "metadata": {
    "colab": {
      "provenance": []
    },
    "kernelspec": {
      "name": "python3",
      "display_name": "Python 3"
    },
    "language_info": {
      "name": "python"
    }
  },
  "cells": [
    {
      "cell_type": "markdown",
      "source": [
        "# load text data"
      ],
      "metadata": {
        "id": "p49C3yo5FWzq"
      }
    },
    {
      "cell_type": "code",
      "execution_count": 1,
      "metadata": {
        "id": "82vt42saD2US"
      },
      "outputs": [],
      "source": [
        "import pandas as pd"
      ]
    },
    {
      "cell_type": "code",
      "source": [
        "#!pip install gdown\n",
        "!gdown https://drive.google.com/uc?id=1EMzJxxoBaN_NbvF7xhoc09K82vQ6H_LX"
      ],
      "metadata": {
        "colab": {
          "base_uri": "https://localhost:8080/"
        },
        "id": "gr6BFu3fEGEq",
        "outputId": "329e8f14-0bca-4cee-9c25-6aed90004755"
      },
      "execution_count": 2,
      "outputs": [
        {
          "output_type": "stream",
          "name": "stdout",
          "text": [
            "Downloading...\n",
            "From: https://drive.google.com/uc?id=1EMzJxxoBaN_NbvF7xhoc09K82vQ6H_LX\n",
            "To: /content/content.xlsx\n",
            "\r  0% 0.00/14.6k [00:00<?, ?B/s]\r100% 14.6k/14.6k [00:00<00:00, 39.8MB/s]\n"
          ]
        }
      ]
    },
    {
      "cell_type": "code",
      "source": [
        "fp = \"content.xlsx\"\n",
        "df = pd.read_excel(fp, header=None)\n",
        "df.head()"
      ],
      "metadata": {
        "colab": {
          "base_uri": "https://localhost:8080/",
          "height": 206
        },
        "id": "gyQtBs3qELJQ",
        "outputId": "fa048bc3-bcc8-4a6c-bda1-39c6fe73bbe3"
      },
      "execution_count": 3,
      "outputs": [
        {
          "output_type": "execute_result",
          "data": {
            "text/plain": [
              "      0                                                  1  \\\n",
              "0   110  https://imagebank.sweden.se//deployedFiles/c7f...   \n",
              "1   139  https://imagebank.sweden.se//deployedFiles/fb2...   \n",
              "2  2178  https://imagebank.sweden.se//deployedFiles/7e2...   \n",
              "3  2574  https://imagebank.sweden.se//deployedFiles/03f...   \n",
              "4  2575  https://imagebank.sweden.se//deployedFiles/0f8...   \n",
              "\n",
              "                                                   2  \n",
              "0  Åre is one of Swedens largest and most popular...  \n",
              "1  Låkktatjåkka is Swedens highest situated mount...  \n",
              "2  Sweden is a nation of amateur athletes and spo...  \n",
              "3  With four slopes and two lifts, Hammarbybacken...  \n",
              "4  With four slopes and two lifts, Hammarbybacken...  "
            ],
            "text/html": [
              "\n",
              "  <div id=\"df-7f76fcf3-bac5-467b-888e-4ca143b05c2c\" class=\"colab-df-container\">\n",
              "    <div>\n",
              "<style scoped>\n",
              "    .dataframe tbody tr th:only-of-type {\n",
              "        vertical-align: middle;\n",
              "    }\n",
              "\n",
              "    .dataframe tbody tr th {\n",
              "        vertical-align: top;\n",
              "    }\n",
              "\n",
              "    .dataframe thead th {\n",
              "        text-align: right;\n",
              "    }\n",
              "</style>\n",
              "<table border=\"1\" class=\"dataframe\">\n",
              "  <thead>\n",
              "    <tr style=\"text-align: right;\">\n",
              "      <th></th>\n",
              "      <th>0</th>\n",
              "      <th>1</th>\n",
              "      <th>2</th>\n",
              "    </tr>\n",
              "  </thead>\n",
              "  <tbody>\n",
              "    <tr>\n",
              "      <th>0</th>\n",
              "      <td>110</td>\n",
              "      <td>https://imagebank.sweden.se//deployedFiles/c7f...</td>\n",
              "      <td>Åre is one of Swedens largest and most popular...</td>\n",
              "    </tr>\n",
              "    <tr>\n",
              "      <th>1</th>\n",
              "      <td>139</td>\n",
              "      <td>https://imagebank.sweden.se//deployedFiles/fb2...</td>\n",
              "      <td>Låkktatjåkka is Swedens highest situated mount...</td>\n",
              "    </tr>\n",
              "    <tr>\n",
              "      <th>2</th>\n",
              "      <td>2178</td>\n",
              "      <td>https://imagebank.sweden.se//deployedFiles/7e2...</td>\n",
              "      <td>Sweden is a nation of amateur athletes and spo...</td>\n",
              "    </tr>\n",
              "    <tr>\n",
              "      <th>3</th>\n",
              "      <td>2574</td>\n",
              "      <td>https://imagebank.sweden.se//deployedFiles/03f...</td>\n",
              "      <td>With four slopes and two lifts, Hammarbybacken...</td>\n",
              "    </tr>\n",
              "    <tr>\n",
              "      <th>4</th>\n",
              "      <td>2575</td>\n",
              "      <td>https://imagebank.sweden.se//deployedFiles/0f8...</td>\n",
              "      <td>With four slopes and two lifts, Hammarbybacken...</td>\n",
              "    </tr>\n",
              "  </tbody>\n",
              "</table>\n",
              "</div>\n",
              "    <div class=\"colab-df-buttons\">\n",
              "\n",
              "  <div class=\"colab-df-container\">\n",
              "    <button class=\"colab-df-convert\" onclick=\"convertToInteractive('df-7f76fcf3-bac5-467b-888e-4ca143b05c2c')\"\n",
              "            title=\"Convert this dataframe to an interactive table.\"\n",
              "            style=\"display:none;\">\n",
              "\n",
              "  <svg xmlns=\"http://www.w3.org/2000/svg\" height=\"24px\" viewBox=\"0 -960 960 960\">\n",
              "    <path d=\"M120-120v-720h720v720H120Zm60-500h600v-160H180v160Zm220 220h160v-160H400v160Zm0 220h160v-160H400v160ZM180-400h160v-160H180v160Zm440 0h160v-160H620v160ZM180-180h160v-160H180v160Zm440 0h160v-160H620v160Z\"/>\n",
              "  </svg>\n",
              "    </button>\n",
              "\n",
              "  <style>\n",
              "    .colab-df-container {\n",
              "      display:flex;\n",
              "      gap: 12px;\n",
              "    }\n",
              "\n",
              "    .colab-df-convert {\n",
              "      background-color: #E8F0FE;\n",
              "      border: none;\n",
              "      border-radius: 50%;\n",
              "      cursor: pointer;\n",
              "      display: none;\n",
              "      fill: #1967D2;\n",
              "      height: 32px;\n",
              "      padding: 0 0 0 0;\n",
              "      width: 32px;\n",
              "    }\n",
              "\n",
              "    .colab-df-convert:hover {\n",
              "      background-color: #E2EBFA;\n",
              "      box-shadow: 0px 1px 2px rgba(60, 64, 67, 0.3), 0px 1px 3px 1px rgba(60, 64, 67, 0.15);\n",
              "      fill: #174EA6;\n",
              "    }\n",
              "\n",
              "    .colab-df-buttons div {\n",
              "      margin-bottom: 4px;\n",
              "    }\n",
              "\n",
              "    [theme=dark] .colab-df-convert {\n",
              "      background-color: #3B4455;\n",
              "      fill: #D2E3FC;\n",
              "    }\n",
              "\n",
              "    [theme=dark] .colab-df-convert:hover {\n",
              "      background-color: #434B5C;\n",
              "      box-shadow: 0px 1px 3px 1px rgba(0, 0, 0, 0.15);\n",
              "      filter: drop-shadow(0px 1px 2px rgba(0, 0, 0, 0.3));\n",
              "      fill: #FFFFFF;\n",
              "    }\n",
              "  </style>\n",
              "\n",
              "    <script>\n",
              "      const buttonEl =\n",
              "        document.querySelector('#df-7f76fcf3-bac5-467b-888e-4ca143b05c2c button.colab-df-convert');\n",
              "      buttonEl.style.display =\n",
              "        google.colab.kernel.accessAllowed ? 'block' : 'none';\n",
              "\n",
              "      async function convertToInteractive(key) {\n",
              "        const element = document.querySelector('#df-7f76fcf3-bac5-467b-888e-4ca143b05c2c');\n",
              "        const dataTable =\n",
              "          await google.colab.kernel.invokeFunction('convertToInteractive',\n",
              "                                                    [key], {});\n",
              "        if (!dataTable) return;\n",
              "\n",
              "        const docLinkHtml = 'Like what you see? Visit the ' +\n",
              "          '<a target=\"_blank\" href=https://colab.research.google.com/notebooks/data_table.ipynb>data table notebook</a>'\n",
              "          + ' to learn more about interactive tables.';\n",
              "        element.innerHTML = '';\n",
              "        dataTable['output_type'] = 'display_data';\n",
              "        await google.colab.output.renderOutput(dataTable, element);\n",
              "        const docLink = document.createElement('div');\n",
              "        docLink.innerHTML = docLinkHtml;\n",
              "        element.appendChild(docLink);\n",
              "      }\n",
              "    </script>\n",
              "  </div>\n",
              "\n",
              "\n",
              "<div id=\"df-143fd4db-2149-466a-b441-880bb66c98f2\">\n",
              "  <button class=\"colab-df-quickchart\" onclick=\"quickchart('df-143fd4db-2149-466a-b441-880bb66c98f2')\"\n",
              "            title=\"Suggest charts\"\n",
              "            style=\"display:none;\">\n",
              "\n",
              "<svg xmlns=\"http://www.w3.org/2000/svg\" height=\"24px\"viewBox=\"0 0 24 24\"\n",
              "     width=\"24px\">\n",
              "    <g>\n",
              "        <path d=\"M19 3H5c-1.1 0-2 .9-2 2v14c0 1.1.9 2 2 2h14c1.1 0 2-.9 2-2V5c0-1.1-.9-2-2-2zM9 17H7v-7h2v7zm4 0h-2V7h2v10zm4 0h-2v-4h2v4z\"/>\n",
              "    </g>\n",
              "</svg>\n",
              "  </button>\n",
              "\n",
              "<style>\n",
              "  .colab-df-quickchart {\n",
              "      --bg-color: #E8F0FE;\n",
              "      --fill-color: #1967D2;\n",
              "      --hover-bg-color: #E2EBFA;\n",
              "      --hover-fill-color: #174EA6;\n",
              "      --disabled-fill-color: #AAA;\n",
              "      --disabled-bg-color: #DDD;\n",
              "  }\n",
              "\n",
              "  [theme=dark] .colab-df-quickchart {\n",
              "      --bg-color: #3B4455;\n",
              "      --fill-color: #D2E3FC;\n",
              "      --hover-bg-color: #434B5C;\n",
              "      --hover-fill-color: #FFFFFF;\n",
              "      --disabled-bg-color: #3B4455;\n",
              "      --disabled-fill-color: #666;\n",
              "  }\n",
              "\n",
              "  .colab-df-quickchart {\n",
              "    background-color: var(--bg-color);\n",
              "    border: none;\n",
              "    border-radius: 50%;\n",
              "    cursor: pointer;\n",
              "    display: none;\n",
              "    fill: var(--fill-color);\n",
              "    height: 32px;\n",
              "    padding: 0;\n",
              "    width: 32px;\n",
              "  }\n",
              "\n",
              "  .colab-df-quickchart:hover {\n",
              "    background-color: var(--hover-bg-color);\n",
              "    box-shadow: 0 1px 2px rgba(60, 64, 67, 0.3), 0 1px 3px 1px rgba(60, 64, 67, 0.15);\n",
              "    fill: var(--button-hover-fill-color);\n",
              "  }\n",
              "\n",
              "  .colab-df-quickchart-complete:disabled,\n",
              "  .colab-df-quickchart-complete:disabled:hover {\n",
              "    background-color: var(--disabled-bg-color);\n",
              "    fill: var(--disabled-fill-color);\n",
              "    box-shadow: none;\n",
              "  }\n",
              "\n",
              "  .colab-df-spinner {\n",
              "    border: 2px solid var(--fill-color);\n",
              "    border-color: transparent;\n",
              "    border-bottom-color: var(--fill-color);\n",
              "    animation:\n",
              "      spin 1s steps(1) infinite;\n",
              "  }\n",
              "\n",
              "  @keyframes spin {\n",
              "    0% {\n",
              "      border-color: transparent;\n",
              "      border-bottom-color: var(--fill-color);\n",
              "      border-left-color: var(--fill-color);\n",
              "    }\n",
              "    20% {\n",
              "      border-color: transparent;\n",
              "      border-left-color: var(--fill-color);\n",
              "      border-top-color: var(--fill-color);\n",
              "    }\n",
              "    30% {\n",
              "      border-color: transparent;\n",
              "      border-left-color: var(--fill-color);\n",
              "      border-top-color: var(--fill-color);\n",
              "      border-right-color: var(--fill-color);\n",
              "    }\n",
              "    40% {\n",
              "      border-color: transparent;\n",
              "      border-right-color: var(--fill-color);\n",
              "      border-top-color: var(--fill-color);\n",
              "    }\n",
              "    60% {\n",
              "      border-color: transparent;\n",
              "      border-right-color: var(--fill-color);\n",
              "    }\n",
              "    80% {\n",
              "      border-color: transparent;\n",
              "      border-right-color: var(--fill-color);\n",
              "      border-bottom-color: var(--fill-color);\n",
              "    }\n",
              "    90% {\n",
              "      border-color: transparent;\n",
              "      border-bottom-color: var(--fill-color);\n",
              "    }\n",
              "  }\n",
              "</style>\n",
              "\n",
              "  <script>\n",
              "    async function quickchart(key) {\n",
              "      const quickchartButtonEl =\n",
              "        document.querySelector('#' + key + ' button');\n",
              "      quickchartButtonEl.disabled = true;  // To prevent multiple clicks.\n",
              "      quickchartButtonEl.classList.add('colab-df-spinner');\n",
              "      try {\n",
              "        const charts = await google.colab.kernel.invokeFunction(\n",
              "            'suggestCharts', [key], {});\n",
              "      } catch (error) {\n",
              "        console.error('Error during call to suggestCharts:', error);\n",
              "      }\n",
              "      quickchartButtonEl.classList.remove('colab-df-spinner');\n",
              "      quickchartButtonEl.classList.add('colab-df-quickchart-complete');\n",
              "    }\n",
              "    (() => {\n",
              "      let quickchartButtonEl =\n",
              "        document.querySelector('#df-143fd4db-2149-466a-b441-880bb66c98f2 button');\n",
              "      quickchartButtonEl.style.display =\n",
              "        google.colab.kernel.accessAllowed ? 'block' : 'none';\n",
              "    })();\n",
              "  </script>\n",
              "</div>\n",
              "    </div>\n",
              "  </div>\n"
            ]
          },
          "metadata": {},
          "execution_count": 3
        }
      ]
    },
    {
      "cell_type": "code",
      "source": [
        "df.shape"
      ],
      "metadata": {
        "colab": {
          "base_uri": "https://localhost:8080/"
        },
        "id": "k7CKBfzuEOte",
        "outputId": "4f62402d-4042-49ed-acf7-274d1cb3e7a8"
      },
      "execution_count": 4,
      "outputs": [
        {
          "output_type": "execute_result",
          "data": {
            "text/plain": [
              "(36, 3)"
            ]
          },
          "metadata": {},
          "execution_count": 4
        }
      ]
    },
    {
      "cell_type": "code",
      "source": [
        "corpus = [\"Rafael Nadal Joins Roger Federer in Missing U.S. Open\",\n",
        "          \"Rafael Nadal Is Out of the Australian Open\",\n",
        "          \"Biden Announces Virus Measures\",\n",
        "          \"Biden's Virus Plans Meet Reality\",\n",
        "          \"Where Biden's Virus Plan Stands\"]"
      ],
      "metadata": {
        "id": "_R3--w24E3P1"
      },
      "execution_count": 2,
      "outputs": []
    },
    {
      "cell_type": "code",
      "source": [
        "# Download necessary NLTK data\n",
        "import nltk\n",
        "nltk.download('popular')\n",
        "from nltk.corpus import stopwords\n",
        "from nltk.stem.wordnet import WordNetLemmatizer\n",
        "import string"
      ],
      "metadata": {
        "id": "sXBZgPdyFSpK"
      },
      "execution_count": null,
      "outputs": []
    },
    {
      "cell_type": "code",
      "source": [
        "# define data cleaning function\n",
        "stop = set(stopwords.words('english'))\n",
        "exclude = set(string.punctuation)\n",
        "lemma = WordNetLemmatizer()\n",
        "\n",
        "def clean(doc):\n",
        "    stop_free = \" \".join([i for i in doc.lower().split() if i not in stop])\n",
        "    punc_free = ''.join(ch for ch in stop_free if ch not in exclude)\n",
        "    normalized = \" \".join(lemma.lemmatize(word) for word in punc_free.split())\n",
        "    return normalized\n",
        "\n",
        "# clean data stored in a new list\n",
        "clean_corpus = [clean(doc).split() for doc in corpus]"
      ],
      "metadata": {
        "id": "30Y5IvuJg4gb"
      },
      "execution_count": 4,
      "outputs": []
    },
    {
      "cell_type": "code",
      "source": [
        "clean_corpus"
      ],
      "metadata": {
        "colab": {
          "base_uri": "https://localhost:8080/"
        },
        "id": "oloWJmlkhb_-",
        "outputId": "ae8637f3-e2eb-43ca-93b9-0200ceacc733"
      },
      "execution_count": 5,
      "outputs": [
        {
          "output_type": "execute_result",
          "data": {
            "text/plain": [
              "[['rafael', 'nadal', 'join', 'roger', 'federer', 'missing', 'u', 'open'],\n",
              " ['rafael', 'nadal', 'australian', 'open'],\n",
              " ['biden', 'announces', 'virus', 'measure'],\n",
              " ['bidens', 'virus', 'plan', 'meet', 'reality'],\n",
              " ['bidens', 'virus', 'plan', 'stand']]"
            ]
          },
          "metadata": {},
          "execution_count": 5
        }
      ]
    },
    {
      "cell_type": "markdown",
      "source": [
        "# vector, matrix representation"
      ],
      "metadata": {
        "id": "sYvtrS3GF3SL"
      }
    },
    {
      "cell_type": "code",
      "source": [
        "# import numpy for matrix operation\n",
        "import numpy as np\n",
        "#!pip install -q scikit-learn\n",
        "from sklearn.feature_extraction.text import CountVectorizer\n"
      ],
      "metadata": {
        "id": "8mhfYuEwEVOX"
      },
      "execution_count": 6,
      "outputs": []
    },
    {
      "cell_type": "code",
      "source": [
        "# Converting text into numerical representation\n",
        "cv_vectorizer = CountVectorizer(tokenizer=lambda doc: doc, lowercase=False)\n",
        "# Array from Count Vectorizer\n",
        "cv_arr = cv_vectorizer.fit_transform(clean_corpus)\n",
        "# this is our converted text to numerical representation from the Count vectorizer\n",
        "cv_arr"
      ],
      "metadata": {
        "colab": {
          "base_uri": "https://localhost:8080/"
        },
        "id": "c7V3zIBXiSvy",
        "outputId": "8646c6b8-31cc-44b4-a6c2-c2e46f9d304b"
      },
      "execution_count": 7,
      "outputs": [
        {
          "output_type": "stream",
          "name": "stderr",
          "text": [
            "/usr/local/lib/python3.10/dist-packages/sklearn/feature_extraction/text.py:528: UserWarning: The parameter 'token_pattern' will not be used since 'tokenizer' is not None'\n",
            "  warnings.warn(\n"
          ]
        },
        {
          "output_type": "execute_result",
          "data": {
            "text/plain": [
              "<5x18 sparse matrix of type '<class 'numpy.int64'>'\n",
              "\twith 25 stored elements in Compressed Sparse Row format>"
            ]
          },
          "metadata": {},
          "execution_count": 7
        }
      ]
    },
    {
      "cell_type": "code",
      "source": [
        "cv_arr.todense()"
      ],
      "metadata": {
        "colab": {
          "base_uri": "https://localhost:8080/"
        },
        "id": "s-jnXrHCjFZn",
        "outputId": "9b59529d-8154-4853-b2ec-003ed7e12886"
      },
      "execution_count": 9,
      "outputs": [
        {
          "output_type": "execute_result",
          "data": {
            "text/plain": [
              "matrix([[0, 0, 0, 0, 1, 1, 0, 0, 1, 1, 1, 0, 1, 0, 1, 0, 1, 0],\n",
              "        [0, 1, 0, 0, 0, 0, 0, 0, 0, 1, 1, 0, 1, 0, 0, 0, 0, 0],\n",
              "        [1, 0, 1, 0, 0, 0, 1, 0, 0, 0, 0, 0, 0, 0, 0, 0, 0, 1],\n",
              "        [0, 0, 0, 1, 0, 0, 0, 1, 0, 0, 0, 1, 0, 1, 0, 0, 0, 1],\n",
              "        [0, 0, 0, 1, 0, 0, 0, 0, 0, 0, 0, 1, 0, 0, 0, 1, 0, 1]])"
            ]
          },
          "metadata": {},
          "execution_count": 9
        }
      ]
    },
    {
      "cell_type": "code",
      "source": [
        "# Creating vocabulary array which will represent all the corpus\n",
        "vocab_cv = cv_vectorizer.get_feature_names_out()\n",
        "# get the vocb list\n",
        "vocab_cv"
      ],
      "metadata": {
        "colab": {
          "base_uri": "https://localhost:8080/"
        },
        "id": "6yxyuzfXitM6",
        "outputId": "a8dc96fb-9e77-4b38-ebc7-91b1f15915cf"
      },
      "execution_count": 8,
      "outputs": [
        {
          "output_type": "execute_result",
          "data": {
            "text/plain": [
              "array(['announces', 'australian', 'biden', 'bidens', 'federer', 'join',\n",
              "       'measure', 'meet', 'missing', 'nadal', 'open', 'plan', 'rafael',\n",
              "       'reality', 'roger', 'stand', 'u', 'virus'], dtype=object)"
            ]
          },
          "metadata": {},
          "execution_count": 8
        }
      ]
    },
    {
      "cell_type": "code",
      "source": [
        "display(len(vocab_cv))"
      ],
      "metadata": {
        "colab": {
          "base_uri": "https://localhost:8080/",
          "height": 34
        },
        "id": "Umnvhjt7jYG0",
        "outputId": "f77ec9a5-3b92-482d-ce97-b1d32f219641"
      },
      "execution_count": 10,
      "outputs": [
        {
          "output_type": "display_data",
          "data": {
            "text/plain": [
              "18"
            ]
          },
          "metadata": {}
        }
      ]
    },
    {
      "cell_type": "markdown",
      "source": [
        "# tf-idf measure"
      ],
      "metadata": {
        "id": "eT30Uy1dJKca"
      }
    },
    {
      "cell_type": "code",
      "source": [
        "# import vectorizers\n",
        "from sklearn.feature_extraction.text import TfidfVectorizer"
      ],
      "metadata": {
        "id": "VYmoGnEjj_vX"
      },
      "execution_count": 11,
      "outputs": []
    },
    {
      "cell_type": "code",
      "source": [
        "# Converting text into numerical representation\n",
        "tf_idf_vectorizer = TfidfVectorizer(tokenizer=lambda doc: doc, lowercase=False)\n",
        "# Array from TF-IDF Vectorizer\n",
        "tf_idf_arr = tf_idf_vectorizer.fit_transform(clean_corpus)\n",
        "# this is our converted text to numerical representation from the Tf-IDF vectorizer\n",
        "tf_idf_arr"
      ],
      "metadata": {
        "colab": {
          "base_uri": "https://localhost:8080/"
        },
        "id": "dM89Ckjwjk_8",
        "outputId": "148f32e9-18fc-419e-c031-ee3c8c94ff78"
      },
      "execution_count": 12,
      "outputs": [
        {
          "output_type": "execute_result",
          "data": {
            "text/plain": [
              "<5x18 sparse matrix of type '<class 'numpy.float64'>'\n",
              "\twith 25 stored elements in Compressed Sparse Row format>"
            ]
          },
          "metadata": {},
          "execution_count": 12
        }
      ]
    },
    {
      "cell_type": "code",
      "source": [
        "tf_idf_arr.todense()"
      ],
      "metadata": {
        "colab": {
          "base_uri": "https://localhost:8080/"
        },
        "id": "ojUTolbhkdhG",
        "outputId": "90302990-3b71-4ed7-eb93-3d26b858eb03"
      },
      "execution_count": 13,
      "outputs": [
        {
          "output_type": "execute_result",
          "data": {
            "text/plain": [
              "matrix([[0.        , 0.        , 0.        , 0.        , 0.37924665,\n",
              "         0.37924665, 0.        , 0.        , 0.37924665, 0.30597381,\n",
              "         0.30597381, 0.        , 0.30597381, 0.        , 0.37924665,\n",
              "         0.        , 0.37924665, 0.        ],\n",
              "        [0.        , 0.5819515 , 0.        , 0.        , 0.        ,\n",
              "         0.        , 0.        , 0.        , 0.        , 0.4695148 ,\n",
              "         0.4695148 , 0.        , 0.4695148 , 0.        , 0.        ,\n",
              "         0.        , 0.        , 0.        ],\n",
              "        [0.53849791, 0.        , 0.53849791, 0.        , 0.        ,\n",
              "         0.        , 0.53849791, 0.        , 0.        , 0.        ,\n",
              "         0.        , 0.        , 0.        , 0.        , 0.        ,\n",
              "         0.        , 0.        , 0.36063833],\n",
              "        [0.        , 0.        , 0.        , 0.41660727, 0.        ,\n",
              "         0.        , 0.        , 0.51637397, 0.        , 0.        ,\n",
              "         0.        , 0.41660727, 0.        , 0.51637397, 0.        ,\n",
              "         0.        , 0.        , 0.34582166],\n",
              "        [0.        , 0.        , 0.        , 0.48648432, 0.        ,\n",
              "         0.        , 0.        , 0.        , 0.        , 0.        ,\n",
              "         0.        , 0.48648432, 0.        , 0.        , 0.        ,\n",
              "         0.60298477, 0.        , 0.40382593]])"
            ]
          },
          "metadata": {},
          "execution_count": 13
        }
      ]
    },
    {
      "cell_type": "code",
      "source": [
        "# Creating vocabulary array which will represent all the corpus\n",
        "vocab_tf_idf = tf_idf_vectorizer.get_feature_names_out()\n",
        "# get the vocb list\n",
        "vocab_tf_idf"
      ],
      "metadata": {
        "colab": {
          "base_uri": "https://localhost:8080/"
        },
        "id": "WN1HSWOOklt4",
        "outputId": "2e3981e9-d429-42f4-e4b7-c2b41cbb8f2d"
      },
      "execution_count": 14,
      "outputs": [
        {
          "output_type": "execute_result",
          "data": {
            "text/plain": [
              "array(['announces', 'australian', 'biden', 'bidens', 'federer', 'join',\n",
              "       'measure', 'meet', 'missing', 'nadal', 'open', 'plan', 'rafael',\n",
              "       'reality', 'roger', 'stand', 'u', 'virus'], dtype=object)"
            ]
          },
          "metadata": {},
          "execution_count": 14
        }
      ]
    },
    {
      "cell_type": "code",
      "source": [
        "display(len(vocab_tf_idf))"
      ],
      "metadata": {
        "colab": {
          "base_uri": "https://localhost:8080/",
          "height": 34
        },
        "id": "cJBRi6pOk1J0",
        "outputId": "98178f94-1bf9-406d-c9e7-1aa0d0c36ba2"
      },
      "execution_count": 15,
      "outputs": [
        {
          "output_type": "display_data",
          "data": {
            "text/plain": [
              "18"
            ]
          },
          "metadata": {}
        }
      ]
    },
    {
      "cell_type": "markdown",
      "source": [
        "# topic modelling"
      ],
      "metadata": {
        "id": "Qlv4gFqWJPkj"
      }
    },
    {
      "cell_type": "code",
      "source": [
        "#\n",
        "from sklearn.decomposition import LatentDirichletAllocation"
      ],
      "metadata": {
        "id": "NR0rLnyGlOsA"
      },
      "execution_count": 16,
      "outputs": []
    },
    {
      "cell_type": "code",
      "source": [
        "# Create object for the LDA class\n",
        "lda_model = LatentDirichletAllocation(n_components=2, max_iter=20, random_state=20)\n",
        "\n",
        "# fit transform on model on our count_vectorizer : running this will return our topics\n",
        "X_topics = lda_model.fit_transform(tf_idf_arr)\n",
        "\n",
        "# .components_ gives us our topic distribution\n",
        "topic_words = lda_model.components_"
      ],
      "metadata": {
        "id": "h8e3Eu4_lIw9"
      },
      "execution_count": 17,
      "outputs": []
    },
    {
      "cell_type": "code",
      "source": [
        "X_topics"
      ],
      "metadata": {
        "colab": {
          "base_uri": "https://localhost:8080/"
        },
        "id": "tRyHRvTOmeK_",
        "outputId": "ab530f35-1d3f-4b07-fd54-88d0d1182284"
      },
      "execution_count": 22,
      "outputs": [
        {
          "output_type": "execute_result",
          "data": {
            "text/plain": [
              "array([[0.8529969 , 0.1470031 ],\n",
              "       [0.81979113, 0.18020887],\n",
              "       [0.76388102, 0.23611898],\n",
              "       [0.16612779, 0.83387221],\n",
              "       [0.17823699, 0.82176301]])"
            ]
          },
          "metadata": {},
          "execution_count": 22
        }
      ]
    },
    {
      "cell_type": "code",
      "source": [
        "#  Define the number of Words that we want to print in every topic : n_top_words\n",
        "n_top_words = 5\n",
        "\n",
        "for i, topic_dist in enumerate(topic_words):\n",
        "\n",
        "    # np.argsort to sorting an array or a list or the matrix acc to their values\n",
        "    sorted_topic_dist = np.argsort(topic_dist)\n",
        "\n",
        "    # Next, to view the actual words present in those indexes we can make the use of the vocab created earlier\n",
        "    topic_words = np.array(vocab_tf_idf)[sorted_topic_dist]\n",
        "\n",
        "    # so using the sorted_topic_indexes we ar extracting the words from the vocabulary\n",
        "    # obtaining topics + words\n",
        "    # this topic_words variable contains the Topics  as well as the respective words present in those Topics\n",
        "    topic_words = topic_words[:-n_top_words:-1]\n",
        "    print (\"Topic\", str(i+1), topic_words)"
      ],
      "metadata": {
        "colab": {
          "base_uri": "https://localhost:8080/"
        },
        "id": "A4WOuZcMlU7G",
        "outputId": "e95eb57e-863e-4dd5-9a86-f1bf72805191"
      },
      "execution_count": 18,
      "outputs": [
        {
          "output_type": "stream",
          "name": "stdout",
          "text": [
            "Topic 1 ['rafael' 'open' 'nadal' 'australian']\n",
            "Topic 2 ['bidens' 'plan' 'virus' 'stand']\n"
          ]
        }
      ]
    },
    {
      "cell_type": "code",
      "source": [
        "# To view what topics are assigned to the douments:\n",
        "doc_topic = lda_model.transform(tf_idf_arr)\n",
        "\n",
        "# iterating over ever value till the end value\n",
        "for n in range(doc_topic.shape[0]):\n",
        "\n",
        "    # argmax() gives maximum index value\n",
        "    topic_doc = doc_topic[n].argmax()\n",
        "\n",
        "    # document is n+1\n",
        "    print (\"Document\", n+1, \" -- Topic:\", topic_doc)"
      ],
      "metadata": {
        "colab": {
          "base_uri": "https://localhost:8080/"
        },
        "id": "RjGSvPGwlUyi",
        "outputId": "73550223-6511-420e-bb68-13363ffb66a1"
      },
      "execution_count": 19,
      "outputs": [
        {
          "output_type": "stream",
          "name": "stdout",
          "text": [
            "Document 1  -- Topic: 0\n",
            "Document 2  -- Topic: 0\n",
            "Document 3  -- Topic: 0\n",
            "Document 4  -- Topic: 1\n",
            "Document 5  -- Topic: 1\n"
          ]
        }
      ]
    },
    {
      "cell_type": "code",
      "source": [
        "clean_corpus"
      ],
      "metadata": {
        "colab": {
          "base_uri": "https://localhost:8080/"
        },
        "id": "P-nRAuRkllFw",
        "outputId": "d0bff49c-4f75-4857-80d6-4d9c8828a684"
      },
      "execution_count": 21,
      "outputs": [
        {
          "output_type": "execute_result",
          "data": {
            "text/plain": [
              "[['rafael', 'nadal', 'join', 'roger', 'federer', 'missing', 'u', 'open'],\n",
              " ['rafael', 'nadal', 'australian', 'open'],\n",
              " ['biden', 'announces', 'virus', 'measure'],\n",
              " ['bidens', 'virus', 'plan', 'meet', 'reality'],\n",
              " ['bidens', 'virus', 'plan', 'stand']]"
            ]
          },
          "metadata": {},
          "execution_count": 21
        }
      ]
    },
    {
      "cell_type": "markdown",
      "source": [
        "# topic modelling with gensim and pyldavis\n",
        "- [https://nils-holmberg.github.io/cca-nlp/jnb/scom-gpols-topics.html](https://nils-holmberg.github.io/cca-nlp/jnb/scom-gpols-topics.html)"
      ],
      "metadata": {
        "id": "xHXA4AEgmxLv"
      }
    },
    {
      "cell_type": "code",
      "source": [],
      "metadata": {
        "id": "c3o1lKrOnbxW"
      },
      "execution_count": null,
      "outputs": []
    }
  ]
}