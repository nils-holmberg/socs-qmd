{
  "cells": [
    {
      "cell_type": "raw",
      "metadata": {},
      "source": [
        "---\n",
        "title: \"Day 5: Finishing with data collections\"\n",
        "---"
      ]
    },
    {
      "cell_type": "markdown",
      "metadata": {},
      "source": [
        "{{< include _include_d5.qmd >}}\n",
        "\n",
        "## Web scraping\n",
        "\n",
        "In the realm of web scraping, `robots.txt` is a standard used by websites to instruct web crawling and scraping bots about which pages should not be processed or scanned. It helps website owners control how search engines index their content. The `sitemap.xml` file, on the other hand, provides a roadmap of a website's structure, aiding search engines in navigation. Both files are essential for ethical and effective web scraping.\n",
        "\n",
        "Sample `robots.txt`:\n",
        "```\n",
        "User-agent: *\n",
        "Disallow: /private/\n",
        "Disallow: /temp/\n",
        "```\n",
        "\n",
        "Sample `sitemap.xml`:\n",
        "```xml\n",
        "<?xml version=\"1.0\" encoding=\"UTF-8\"?>\n",
        "<urlset xmlns=\"http://www.sitemaps.org/schemas/sitemap/0.9\">\n",
        "   <url>\n",
        "      <loc>http://www.example.com/</loc>\n",
        "      <lastmod>2022-09-24</lastmod>\n",
        "   </url>\n",
        "</urlset>\n",
        "```\n",
        "\n",
        "For web scraping in Python, the `BeautifulSoup` and `Scrapy` packages are popular choices. While `BeautifulSoup` is ideal for parsing HTML and XML documents, `Scrapy` provides a powerful framework for large-scale web scraping tasks.\n",
        "\n",
        "### BeautifulSoup\n",
        "\n",
        "The content of the webpage \"https://books.toscrape.com/catalogue/page-2.html\" was fetched using the `requests` library. Once retrieved, the content was saved as an HTML file named \"books_page_2.html\". The `Beautiful Soup` library was then employed to parse and analyze the HTML structure. The analysis focused on identifying all `article` tags with the class `product_pod`. Within each of these tags, the title and link attributes from the nested `h3` and `a` tags were extracted. This extracted data was subsequently organized into a pandas dataframe, displaying the title of each book alongside its corresponding link."
      ]
    },
    {
      "cell_type": "code",
      "metadata": {},
      "source": [
        "#| eval: false\n",
        "#| echo: true\n",
        "#| output: true\n",
        "\n",
        "import requests\n",
        "from bs4 import BeautifulSoup\n",
        "import pandas as pd\n",
        "\n",
        "# URL to fetch\n",
        "books_url = 'https://books.toscrape.com/catalogue/page-2.html'\n",
        "\n",
        "# Make a request to the website using the requests library\n",
        "books_response = requests.get(books_url)\n",
        "books_content = books_response.content\n",
        "\n",
        "# Save the content to an HTML file\n",
        "books_filename = 'books_page_2.html'\n",
        "with open(books_filename, 'wb') as file:\n",
        "    file.write(books_content)\n",
        "\n",
        "# Parse the content with BeautifulSoup\n",
        "books_soup = BeautifulSoup(books_content, 'lxml')\n",
        "\n",
        "# Look for all article tags of class 'product_pod'\n",
        "product_pods = books_soup.find_all('article', class_='product_pod')\n",
        "\n",
        "# Extract the h3 child tag and its a tag attributes as text\n",
        "books_data = []\n",
        "for pod in product_pods:\n",
        "    h3_tag = pod.find('h3')\n",
        "    a_tag = h3_tag.find('a') if h3_tag else None\n",
        "    books_data.append({\n",
        "        'title': a_tag.attrs.get('title') if a_tag else None,\n",
        "        'link': a_tag.attrs.get('href') if a_tag else None\n",
        "    })\n",
        "\n",
        "# Convert the data to a pandas dataframe\n",
        "books_df = pd.DataFrame(books_data)\n",
        "books_df.head()"
      ],
      "execution_count": null,
      "outputs": []
    },
    {
      "cell_type": "markdown",
      "metadata": {},
      "source": [
        "## Put it together!\n",
        "\n",
        "- nlp\n",
        "- data analysis\n",
        "- summarize results\n",
        "- visualization, wordcloud\n",
        "\n",
        "## Online survey experiments\n",
        "\n",
        "Work in progress. Check out [streamlit](https://streamlit.io/) and [github]() for more info!\n",
        "\n",
        "- [https://github.com/nils-holmberg/scom-expm](https://github.com/nils-holmberg/scom-expm)"
      ]
    },
    {
      "cell_type": "code",
      "metadata": {},
      "source": [
        "#| eval: false\n",
        "#| echo: true\n",
        "#| output: true\n",
        "\n",
        "#!pip install streamlit\n",
        "\n",
        "import streamlit as st\n",
        "import pandas as pd\n",
        "import seaborn as sns\n",
        "\n",
        "conditions = [\"a\", \"b\"]\n",
        "\n",
        "selected_condition = random.choice(conditions)\n",
        "\n",
        "if selected_condition == \"a\":\n",
        "    st.image(\"img/exps-stim-c.png\")\n",
        "else:\n",
        "    st.image(\"img/exps-stim-t.png\")\n",
        "\n",
        "#!streamlit hello\n",
        "#!streamlit run app.py"
      ],
      "execution_count": null,
      "outputs": []
    },
    {
      "cell_type": "markdown",
      "metadata": {},
      "source": [
        "- [https://osm-exp-vetchcj6ybl.streamlit.app/](https://osm-exp-vetchcj6ybl.streamlit.app/)\n",
        "\n",
        "**Django vs. Flask: Python Web Frameworks**\n",
        "\n",
        "Django and Flask are two prominent web frameworks in Python, but they serve different philosophies. Django, often termed the \"framework for perfectionists with deadlines\", is a high-level, all-inclusive framework. It follows the \"batteries-included\" approach, offering a built-in admin panel, ORM, and directory structure, making it suitable for larger applications and rapid development. In contrast, Flask is a micro-framework. It's lightweight, flexible, and gives developers more control over components they wish to use. Flask doesn't prescribe a directory structure or include extras like Django does, making it more suitable for small applications or microservices. Both have their merits, and the choice depends on the project's needs.\n"
      ]
    }
  ],
  "metadata": {
    "kernelspec": {
      "name": "python3",
      "language": "python",
      "display_name": "Python 3 (ipykernel)"
    }
  },
  "nbformat": 4,
  "nbformat_minor": 4
}