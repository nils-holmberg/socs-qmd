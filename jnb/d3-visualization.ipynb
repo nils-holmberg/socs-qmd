{
  "cells": [
    {
      "cell_type": "raw",
      "metadata": {},
      "source": [
        "---\n",
        "title: \"Day 3: Visualizing and reporting results\"\n",
        "---"
      ]
    },
    {
      "cell_type": "markdown",
      "metadata": {},
      "source": [
        "{{< include _include_d3.qmd >}}"
      ]
    },
    {
      "cell_type": "code",
      "metadata": {},
      "source": [
        "#| eval: true\n",
        "#| echo: false\n",
        "#| output: false\n",
        "\n",
        "import pandas as pd\n",
        "df = pd.read_csv('/home/sol-nhl/rnd/d/cca-cce/csv/iris.tsv', sep='\\t')"
      ],
      "execution_count": null,
      "outputs": []
    },
    {
      "cell_type": "markdown",
      "metadata": {},
      "source": [
        "## Frequency diagrams\n",
        "\n",
        "The frequency diagram, or histogram, visually represents the distribution of the \"sepal_length\" variable from the `df` DataFrame. In the example, we used Seaborn's `histplot` function to plot the diagram with 20 bins. The kernel density estimation (KDE) curve is also overlaid on the histogram to give a smoother representation of the data distribution. The x-axis represents the range of \"sepal_length\" values, while the y-axis shows the frequency of occurrences for each bin.\n",
        "\n",
        "Here's the code snippet to generate the frequency diagram:"
      ]
    },
    {
      "cell_type": "code",
      "metadata": {},
      "source": [
        "#| eval: true\n",
        "#| echo: true\n",
        "#| output: true\n",
        "\n",
        "import seaborn as sns\n",
        "import matplotlib.pyplot as plt\n",
        "\n",
        "# Create a frequency diagram for 'sepal_length'\n",
        "sns.histplot(df['sepal_length'], bins=20, kde=True)\n",
        "\n",
        "# Add labels and title\n",
        "plt.xlabel('Sepal Length')\n",
        "plt.ylabel('Frequency')\n",
        "plt.title('Frequency Diagram of Sepal Length')\n",
        "\n",
        "# Show the plot\n",
        "plt.show()"
      ],
      "execution_count": null,
      "outputs": []
    },
    {
      "cell_type": "markdown",
      "metadata": {},
      "source": [
        "This visualization allows you to quickly grasp the shape, center, and spread of the \"sepal_length\" data.\n",
        "\n",
        "## Bar plots\n",
        "\n",
        "Bar plots are useful for displaying the relationship between a categorical variable and a numerical variable. In the example, we use Seaborn's `barplot` function to visualize the average \"sepal_length\" for each species in the `df` DataFrame. The x-axis represents the different species, and the y-axis shows the average \"sepal_length\" for each. \n",
        "\n",
        "Here's the code snippet to generate the bar plot:"
      ]
    },
    {
      "cell_type": "code",
      "metadata": {},
      "source": [
        "#| eval: true\n",
        "#| echo: true\n",
        "#| output: true\n",
        "\n",
        "import seaborn as sns\n",
        "import matplotlib.pyplot as plt\n",
        "\n",
        "# Create a barplot for the 'species' column showing the average 'sepal_length'\n",
        "sns.barplot(x='species', y='sepal_length', data=df, ci=None)\n",
        "\n",
        "# Add labels and title\n",
        "plt.xlabel('Species')\n",
        "plt.ylabel('Average Sepal Length')\n",
        "plt.title('Average Sepal Length by Species')\n",
        "\n",
        "# Show the plot\n",
        "plt.show()"
      ],
      "execution_count": null,
      "outputs": []
    },
    {
      "cell_type": "markdown",
      "metadata": {},
      "source": [
        "In this case, the `ci=None` parameter removes the confidence interval bars, focusing solely on the mean values. The plot provides a quick way to compare the average \"sepal_length\" across different species.\n",
        "\n",
        "## Scatter plots\n",
        "\n",
        "Scatter plots are excellent tools for visualizing relationships between two numerical variables. In the given example, we use Seaborn's `scatterplot` function to create a scatter plot of \"sepal_length\" against \"sepal_width\" from the `df` DataFrame. The points are colored based on the \"species\" category, providing an additional layer of information. \n",
        "\n",
        "Here's the code snippet to generate the scatter plot:"
      ]
    },
    {
      "cell_type": "code",
      "metadata": {},
      "source": [
        "#| eval: true\n",
        "#| echo: true\n",
        "#| output: true\n",
        "\n",
        "import seaborn as sns\n",
        "import matplotlib.pyplot as plt\n",
        "\n",
        "# Create a scatter plot for 'sepal_length' and 'sepal_width' colored by 'species'\n",
        "sns.scatterplot(x='sepal_length', y='sepal_width', hue='species', data=df)\n",
        "\n",
        "# Add labels and title\n",
        "plt.xlabel('Sepal Length')\n",
        "plt.ylabel('Sepal Width')\n",
        "plt.title('Scatter Plot of Sepal Dimensions by Species')\n",
        "\n",
        "# Show the plot\n",
        "plt.show()"
      ],
      "execution_count": null,
      "outputs": []
    },
    {
      "cell_type": "markdown",
      "metadata": {},
      "source": [
        "This scatter plot allows you to identify patterns or relationships between \"sepal_length\" and \"sepal_width\" while also considering the species. It's a powerful way to explore multidimensional data.\n",
        "\n",
        "## Heatmaps\n",
        "\n",
        "Heatmaps are excellent tools for visualizing complex relationships between numerical variables. In Python, the Seaborn library provides an easy-to-use `heatmap` function for this purpose. For instance, you can create a heatmap of the correlation matrix of numerical features in the `df` DataFrame. The color gradients in the heatmap represent the strength and direction of correlation, making it easier to identify highly or weakly correlated variables.\n",
        "\n",
        "Here's an inline code example to generate the heatmap:"
      ]
    },
    {
      "cell_type": "code",
      "metadata": {},
      "source": [
        "#| eval: true\n",
        "#| echo: true\n",
        "#| output: true\n",
        "\n",
        "import seaborn as sns\n",
        "import matplotlib.pyplot as plt\n",
        "\n",
        "# Drop the 'species' column to only keep numerical columns\n",
        "numerical_df = df.drop('species', axis=1)\n",
        "\n",
        "# Calculate the correlation matrix for the numerical columns\n",
        "correlation_matrix = numerical_df.corr()\n",
        "\n",
        "# Create a heatmap to visualize the correlation matrix\n",
        "sns.heatmap(correlation_matrix, annot=True, cmap='coolwarm')\n",
        "\n",
        "# Add title\n",
        "plt.title('Heatmap of Feature Correlations')\n",
        "\n",
        "# Show the plot\n",
        "plt.show()"
      ],
      "execution_count": null,
      "outputs": []
    },
    {
      "cell_type": "markdown",
      "metadata": {},
      "source": [
        "This heatmap makes it easier to understand the relationships between different numerical features, aiding in feature selection and further data analysis.\n"
      ]
    }
  ],
  "metadata": {
    "kernelspec": {
      "name": "python3",
      "language": "python",
      "display_name": "Python 3 (ipykernel)"
    }
  },
  "nbformat": 4,
  "nbformat_minor": 4
}