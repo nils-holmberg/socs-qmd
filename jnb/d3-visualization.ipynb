{
  "cells": [
    {
      "cell_type": "raw",
      "metadata": {},
      "source": [
        "---\n",
        "title: \"Day 3: Visualizing and reporting results\"\n",
        "---"
      ]
    },
    {
      "cell_type": "markdown",
      "metadata": {},
      "source": [
        "{{< include _include_d3.qmd >}}"
      ]
    },
    {
      "cell_type": "code",
      "metadata": {},
      "source": [
        "#| eval: true\n",
        "#| echo: false\n",
        "#| output: false\n",
        "\n",
        "import warnings\n",
        "warnings.filterwarnings(\"ignore\", \"is_categorical_dtype\")\n",
        "warnings.filterwarnings(\"ignore\", \"use_inf_as_na\")\n",
        "\n",
        "import pandas as pd\n",
        "#df = pd.read_csv('/home/sol-nhl/rnd/d/cca-cce/csv/iris.tsv', sep='\\t')\n",
        "df = pd.read_csv('https://raw.githubusercontent.com/nils-holmberg/cca-cce/main/csv/iris.csv', sep='\\t')"
      ],
      "execution_count": null,
      "outputs": []
    },
    {
      "cell_type": "markdown",
      "metadata": {},
      "source": [
        "## Frequency diagrams\n",
        "\n",
        "The frequency diagram, or histogram, visually represents the distribution of the \"sepal_length\" variable from the `df` DataFrame. In the example, we used Seaborn's `histplot` function to plot the diagram with 20 bins. The kernel density estimation (KDE) curve is also overlaid on the histogram to give a smoother representation of the data distribution. The x-axis represents the range of \"sepal_length\" values, while the y-axis shows the frequency of occurrences for each bin.\n",
        "\n",
        "Here's the code snippet to generate the frequency diagram:"
      ]
    },
    {
      "cell_type": "code",
      "metadata": {},
      "source": [
        "#| eval: true\n",
        "#| echo: true\n",
        "#| output: true\n",
        "\n",
        "import seaborn as sns\n",
        "import matplotlib.pyplot as plt\n",
        "\n",
        "# Create a frequency diagram for 'sepal_length'\n",
        "sns.histplot(df['sepal_length'], bins=20, kde=True)\n",
        "\n",
        "# Add labels and title\n",
        "plt.xlabel('Sepal Length')\n",
        "plt.ylabel('Frequency')\n",
        "plt.title('Frequency Diagram of Sepal Length')\n",
        "\n",
        "# Show the plot\n",
        "plt.show()"
      ],
      "execution_count": null,
      "outputs": []
    },
    {
      "cell_type": "markdown",
      "metadata": {},
      "source": [
        "This visualization allows you to quickly grasp the shape, center, and spread of the \"sepal_length\" data.\n",
        "\n",
        "## Bar plots\n",
        "\n",
        "Bar plots are useful for displaying the relationship between a categorical variable and a numerical variable. In the example, we use Seaborn's `barplot` function to visualize the average \"sepal_length\" for each species in the `df` DataFrame. The x-axis represents the different species, and the y-axis shows the average \"sepal_length\" for each. \n",
        "\n",
        "Here's the code snippet to generate the bar plot:"
      ]
    },
    {
      "cell_type": "code",
      "metadata": {},
      "source": [
        "#| eval: true\n",
        "#| echo: true\n",
        "#| output: true\n",
        "#| warning: false\n",
        "\n",
        "import seaborn as sns\n",
        "import matplotlib.pyplot as plt\n",
        "\n",
        "# Create a barplot for the 'species' column showing the average 'sepal_length'\n",
        "sns.barplot(x='species', y='sepal_length', data=df, errorbar=\"ci\")\n",
        "\n",
        "# Add labels and title\n",
        "plt.xlabel('Species')\n",
        "plt.ylabel('Average Sepal Length')\n",
        "plt.title('Average Sepal Length by Species')\n",
        "\n",
        "# Show the plot\n",
        "plt.show()"
      ],
      "execution_count": null,
      "outputs": []
    },
    {
      "cell_type": "markdown",
      "metadata": {},
      "source": [
        "In this case, the `ci=None` parameter removes the confidence interval bars, focusing solely on the mean values. The plot provides a quick way to compare the average \"sepal_length\" across different species.\n",
        "\n",
        "## Scatter plots\n",
        "\n",
        "Scatter plots are excellent tools for visualizing relationships between two numerical variables. In the given example, we use Seaborn's `scatterplot` function to create a scatter plot of \"sepal_length\" against \"sepal_width\" from the `df` DataFrame. The points are colored based on the \"species\" category, providing an additional layer of information. \n",
        "\n",
        "Here's the code snippet to generate the scatter plot:"
      ]
    },
    {
      "cell_type": "code",
      "metadata": {},
      "source": [
        "#| eval: true\n",
        "#| echo: true\n",
        "#| output: true\n",
        "\n",
        "import seaborn as sns\n",
        "import matplotlib.pyplot as plt\n",
        "\n",
        "# Create a scatter plot for 'sepal_length' and 'sepal_width' colored by 'species'\n",
        "g = sns.scatterplot(x='sepal_length', y='sepal_width', hue='species', data=df)\n",
        "\n",
        "# Add labels and title\n",
        "plt.xlabel('Sepal Length')\n",
        "plt.ylabel('Sepal Width')\n",
        "plt.title('Scatter Plot of Sepal Dimensions by Species')\n",
        "\n",
        "# Show the plot\n",
        "plt.show()"
      ],
      "execution_count": null,
      "outputs": []
    },
    {
      "cell_type": "markdown",
      "metadata": {},
      "source": [
        "This scatter plot allows you to identify patterns or relationships between \"sepal_length\" and \"sepal_width\" while also considering the species. It's a powerful way to explore multidimensional data.\n",
        "\n",
        "## Heatmaps\n",
        "\n",
        "Heatmaps are excellent tools for visualizing complex relationships between numerical variables. In Python, the Seaborn library provides an easy-to-use `heatmap` function for this purpose. For instance, you can create a heatmap of the correlation matrix of numerical features in the `df` DataFrame. The color gradients in the heatmap represent the strength and direction of correlation, making it easier to identify highly or weakly correlated variables.\n",
        "\n",
        "Here's an inline code example to generate the heatmap:"
      ]
    },
    {
      "cell_type": "code",
      "metadata": {},
      "source": [
        "#| eval: true\n",
        "#| echo: true\n",
        "#| output: true\n",
        "\n",
        "import seaborn as sns\n",
        "import matplotlib.pyplot as plt\n",
        "\n",
        "# Drop the 'species' column to only keep numerical columns\n",
        "numerical_df = df.drop('species', axis=1)\n",
        "\n",
        "# Calculate the correlation matrix for the numerical columns\n",
        "correlation_matrix = numerical_df.corr()\n",
        "\n",
        "# Create a heatmap to visualize the correlation matrix\n",
        "g = sns.heatmap(correlation_matrix, annot=True, cmap='coolwarm')\n",
        "\n",
        "# Add title\n",
        "plt.title('Heatmap of Feature Correlations')\n",
        "\n",
        "# Show the plot\n",
        "plt.show()"
      ],
      "execution_count": null,
      "outputs": []
    },
    {
      "cell_type": "markdown",
      "metadata": {},
      "source": [
        "This heatmap makes it easier to understand the relationships between different numerical features, aiding in feature selection and further data analysis.\n",
        "\n",
        "## Save plot images"
      ]
    },
    {
      "cell_type": "code",
      "metadata": {},
      "source": [
        "#| eval: true\n",
        "#| echo: true\n",
        "#| output: true\n",
        "\n",
        "# write to image file\n",
        "#fig.savefig('../../tmp/some.png', format='png', dpi=300)\n",
        "g.figure.savefig('../../tmp/some.png', format='png', dpi=300)"
      ],
      "execution_count": null,
      "outputs": []
    },
    {
      "cell_type": "markdown",
      "metadata": {},
      "source": [
        "## Try it yourself!"
      ]
    },
    {
      "cell_type": "code",
      "metadata": {},
      "source": [
        "#| eval: true\n",
        "#| echo: true\n",
        "#| output: true\n",
        "\n",
        "import pandas as pd\n",
        "\n",
        "penguins_df = pd.read_csv('https://raw.githubusercontent.com/nils-holmberg/cca-cce/main/csv/palmerpenguins.tsv', sep='\\t')"
      ],
      "execution_count": null,
      "outputs": []
    },
    {
      "cell_type": "markdown",
      "metadata": {},
      "source": [
        "![palmer penguins](https://nils-holmberg.github.io/cca-cce/res/img/lter_penguins.png){#fig-penguins height=214px width=360px}\n",
        "\n",
        "**Tasks:**\n",
        "\n",
        "1. Plot a bar chart showing the average bill length for each species.\n",
        "2. Visualize the distribution of body mass using a histogram.\n",
        "3. Create a scatter plot between bill length and bill depth, color-coded by species.\n",
        "4. Plot a pair plot for numerical columns to visualize pairwise relationships, colored by species.\n",
        "5. Display a box plot comparing the flipper length distributions of different species.\n",
        "6. Create a scatter plot of bill length vs. flipper length with a regression line.\n",
        "7. Visualize the distribution of flipper length for each species using violin plots.\n",
        "8. Display a heatmap of the correlation matrix for the numerical columns.\n",
        "9. Plot a bar chart of the number of penguins per island.\n",
        "10. Create a scatter plot of bill depth vs. body mass, color-coded by sex, with a regression line."
      ]
    },
    {
      "cell_type": "code",
      "metadata": {},
      "source": [
        "#| eval: false\n",
        "#| echo: false\n",
        "#| output: false\n",
        "\n",
        "import seaborn as sns\n",
        "import matplotlib.pyplot as plt\n",
        "\n",
        "# Task 1\n",
        "plt.figure(figsize=(8, 6))\n",
        "sns.barplot(data=penguins_df, x=\"species\", y=\"bill_length_mm\")\n",
        "plt.title(\"Average Bill Length by Species\")\n",
        "plt.show()\n",
        "\n",
        "# Task 2\n",
        "plt.figure(figsize=(8, 6))\n",
        "sns.histplot(data=penguins_df, x=\"body_mass_g\")\n",
        "plt.title(\"Distribution of Body Mass\")\n",
        "plt.show()\n",
        "\n",
        "# Task 3\n",
        "plt.figure(figsize=(8, 6))\n",
        "sns.scatterplot(data=penguins_df, x=\"bill_length_mm\", y=\"bill_depth_mm\", hue=\"species\")\n",
        "plt.title(\"Bill Length vs Bill Depth by Species\")\n",
        "plt.show()\n",
        "\n",
        "# Task 4\n",
        "sns.pairplot(penguins_df, hue=\"species\")\n",
        "plt.show()\n",
        "\n",
        "# Task 5\n",
        "plt.figure(figsize=(8, 6))\n",
        "sns.boxplot(data=penguins_df, x=\"species\", y=\"flipper_length_mm\")\n",
        "plt.title(\"Flipper Length Distributions by Species\")\n",
        "plt.show()\n",
        "\n",
        "# Task 6\n",
        "plt.figure(figsize=(8, 6))\n",
        "sns.regplot(data=penguins_df, x=\"bill_length_mm\", y=\"flipper_length_mm\")\n",
        "plt.title(\"Bill Length vs Flipper Length with Regression Line\")\n",
        "plt.show()\n",
        "\n",
        "# Task 7\n",
        "plt.figure(figsize=(8, 6))\n",
        "sns.violinplot(data=penguins_df, x=\"species\", y=\"flipper_length_mm\")\n",
        "plt.title(\"Distribution of Flipper Length by Species\")\n",
        "plt.show()\n",
        "\n",
        "# Task 8\n",
        "correlation_matrix = penguins_df.corr()\n",
        "plt.figure(figsize=(10, 8))\n",
        "sns.heatmap(correlation_matrix, annot=True, cmap=\"coolwarm\")\n",
        "plt.title(\"Heatmap of Correlation Matrix\")\n",
        "plt.show()\n",
        "\n",
        "# Task 9\n",
        "plt.figure(figsize=(8, 6))\n",
        "sns.countplot(data=penguins_df, x=\"island\")\n",
        "plt.title(\"Number of Penguins Per Island\")\n",
        "plt.show()\n",
        "\n",
        "# Task 10\n",
        "plt.figure(figsize=(8, 6))\n",
        "sns.lmplot(data=penguins_df, x=\"bill_depth_mm\", y=\"body_mass_g\", hue=\"sex\")\n",
        "plt.title(\"Bill Depth vs Body Mass by Sex with Regression Line\")\n",
        "plt.show()"
      ],
      "execution_count": null,
      "outputs": []
    },
    {
      "cell_type": "markdown",
      "metadata": {},
      "source": [
        "These tasks and their solutions offer students a comprehensive introduction to data visualization in Seaborn using the Palmer Penguins dataset.\n"
      ]
    }
  ],
  "metadata": {
    "kernelspec": {
      "name": "python3",
      "language": "python",
      "display_name": "Python 3 (ipykernel)"
    }
  },
  "nbformat": 4,
  "nbformat_minor": 4
}