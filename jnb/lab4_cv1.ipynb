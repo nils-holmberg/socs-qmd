{
  "nbformat": 4,
  "nbformat_minor": 0,
  "metadata": {
    "colab": {
      "provenance": []
    },
    "kernelspec": {
      "name": "python3",
      "display_name": "Python 3"
    },
    "language_info": {
      "name": "python"
    }
  },
  "cells": [
    {
      "cell_type": "markdown",
      "source": [
        "[![Open In Colab](https://colab.research.google.com/assets/colab-badge.svg)](https://colab.research.google.com/github/nils-holmberg/socs-qmd/blob/main/jnb/lab4_cv1.ipynb)"
      ],
      "metadata": {
        "id": "4kdGip6tiQQ9"
      }
    },
    {
      "cell_type": "code",
      "execution_count": null,
      "metadata": {
        "id": "XCQZuCjy5DNn"
      },
      "outputs": [],
      "source": [
        "import numpy as np\n",
        "import pandas as pd\n",
        "import seaborn as sns\n",
        "import matplotlib.pyplot as plt\n"
      ]
    },
    {
      "cell_type": "markdown",
      "source": [
        "# image urls"
      ],
      "metadata": {
        "id": "qUL8OWn7HkGq"
      }
    },
    {
      "cell_type": "code",
      "source": [
        "#!pip install gdown\n",
        "!gdown https://drive.google.com/uc?id=1EMzJxxoBaN_NbvF7xhoc09K82vQ6H_LX"
      ],
      "metadata": {
        "id": "QcHrqjKr5q8j"
      },
      "execution_count": null,
      "outputs": []
    },
    {
      "cell_type": "code",
      "source": [
        "fp = \"content.xlsx\"\n",
        "df = pd.read_excel(fp, header=None, names=['id', 'image', 'text'])\n",
        "df.head()"
      ],
      "metadata": {
        "id": "w7fh86Xk5uaK"
      },
      "execution_count": null,
      "outputs": []
    },
    {
      "cell_type": "code",
      "source": [
        "import requests\n",
        "import os\n",
        "\n",
        "# Directory to save images\n",
        "image_dir = 'ibs'\n",
        "if not os.path.exists(image_dir):\n",
        "    os.makedirs(image_dir)\n",
        "\n",
        "# Function to download an image\n",
        "def download_image(url, folder):\n",
        "    response = requests.get(url)\n",
        "    if response.status_code == 200:\n",
        "        # Extract image file name\n",
        "        filename = url.split('/')[-1]\n",
        "        file_path = os.path.join(folder, filename)\n",
        "        with open(file_path, 'wb') as f:\n",
        "            f.write(response.content)\n",
        "        print(f\"Downloaded {filename}\")\n",
        "    else:\n",
        "        print(f\"Failed to download {url}\")\n",
        "\n",
        "# Download images from URLs in the DataFrame\n",
        "for url in df['image']:\n",
        "    download_image(url, image_dir)\n"
      ],
      "metadata": {
        "id": "AhcdjMjU5Hae"
      },
      "execution_count": null,
      "outputs": []
    },
    {
      "cell_type": "markdown",
      "source": [
        "# image archive"
      ],
      "metadata": {
        "id": "QbTgBa1VHtAm"
      }
    },
    {
      "cell_type": "code",
      "source": [
        "!gdown https://drive.google.com/uc?id=1sBsckDIyQJ-zTsEpjCntYMIJcbBpF3wk"
      ],
      "metadata": {
        "id": "ujnKyCaC6pLx"
      },
      "execution_count": null,
      "outputs": []
    },
    {
      "cell_type": "code",
      "source": [
        "!unzip content-images.zip"
      ],
      "metadata": {
        "id": "9CaJWwip7J8R"
      },
      "execution_count": null,
      "outputs": []
    },
    {
      "cell_type": "markdown",
      "source": [
        "# display images"
      ],
      "metadata": {
        "id": "G1YXykOBHzSm"
      }
    },
    {
      "cell_type": "code",
      "source": [
        "#!pip install -q opencv-python\n",
        "import cv2\n",
        "from google.colab.patches import cv2_imshow\n",
        "\n",
        "# Load an image from file\n",
        "image_path = 'images/ibs-92.jpg'\n",
        "image = cv2.imread(image_path)\n",
        "\n",
        "# Check if the image was successfully loaded\n",
        "if image is not None:\n",
        "    # Display the image\n",
        "    cv2_imshow(image)\n",
        "else:\n",
        "    print(\"Error: Unable to load image.\")\n"
      ],
      "metadata": {
        "id": "9CK9KAnPAnGX"
      },
      "execution_count": null,
      "outputs": []
    },
    {
      "cell_type": "code",
      "source": [
        "import cv2\n",
        "import matplotlib.pyplot as plt\n",
        "import seaborn as sns\n",
        "\n",
        "# Read the image using OpenCV\n",
        "image_path = 'images/ibs-92.jpg'  # Replace with your image path\n",
        "image = cv2.imread(image_path)\n",
        "\n",
        "# Convert the color scheme from BGR to RGB\n",
        "image_rgb = cv2.cvtColor(image, cv2.COLOR_BGR2RGB)\n",
        "\n",
        "# Use Seaborn to improve plot aesthetics\n",
        "sns.set()  # Apply Seaborn styles\n",
        "\n",
        "# Display the image\n",
        "plt.imshow(image_rgb)\n",
        "plt.axis('off')  # Hide the axis\n",
        "plt.show()\n"
      ],
      "metadata": {
        "id": "AkKv3B-QCvqT"
      },
      "execution_count": null,
      "outputs": []
    },
    {
      "cell_type": "markdown",
      "source": [
        "# describe images"
      ],
      "metadata": {
        "id": "S4J7kcLAH8bw"
      }
    },
    {
      "cell_type": "code",
      "source": [
        "import os\n",
        "import cv2\n",
        "import pandas as pd\n",
        "\n",
        "# Path to the directory containing images\n",
        "directory = 'images'  # Replace with your directory path\n",
        "\n",
        "# Initialize a list to store image data\n",
        "image_data = []\n",
        "\n",
        "# Iterate through each file in the directory\n",
        "for filename in os.listdir(directory):\n",
        "    if filename.lower().endswith(('.png', '.jpg', '.jpeg')):  # Add other image formats if needed\n",
        "        # Read the image\n",
        "        img_path = os.path.join(directory, filename)\n",
        "        img = cv2.imread(img_path)\n",
        "\n",
        "        # Extract image dimensions and channels\n",
        "        height, width, channels = img.shape\n",
        "\n",
        "        # Append the data to the list\n",
        "        image_data.append({'Filename': filename, 'Width': width, 'Height': height, 'Channels': channels})\n",
        "\n",
        "# Create a DataFrame from the image data\n",
        "image_df = pd.DataFrame(image_data)\n",
        "\n",
        "# Display the DataFrame\n",
        "image_df.head()\n"
      ],
      "metadata": {
        "id": "-ZHrP_s3DN9_"
      },
      "execution_count": null,
      "outputs": []
    },
    {
      "cell_type": "markdown",
      "source": [
        "# image to grayscale"
      ],
      "metadata": {
        "id": "SVc9aNZiZknq"
      }
    },
    {
      "cell_type": "code",
      "source": [
        "import numpy as np\n",
        "import cv2\n",
        "import seaborn as sns\n",
        "import matplotlib.pyplot as plt\n",
        "\n",
        "# For demonstration, create a sample color image using NumPy\n",
        "#color_image = np.random.randint(0, 256, (200, 200, 3), dtype=np.uint8)\n",
        "\n",
        "# Read the image using OpenCV\n",
        "image_path = 'images/ibs-92.jpg'  # Replace with your image path\n",
        "color_image = cv2.imread(image_path)\n",
        "\n",
        "# Convert the image to grayscale\n",
        "gray_image = cv2.cvtColor(color_image, cv2.COLOR_BGR2GRAY)\n",
        "\n",
        "# Increase intensities by 25% with a ceiling of 255\n",
        "enhanced_gray_image = np.clip(gray_image * 0.01, 0, 255).astype(np.uint8)\n",
        "\n",
        "# Display the modified gray image using seaborn\n",
        "plt.figure(figsize=(8, 6))\n",
        "sns.heatmap(enhanced_gray_image, annot=False, cmap='gray')\n",
        "plt.axis('off')  # Hide the axis\n",
        "plt.title('Altered Grayscale Image')\n",
        "plt.show()\n"
      ],
      "metadata": {
        "id": "ZizZa7lEZkBK"
      },
      "execution_count": null,
      "outputs": []
    },
    {
      "cell_type": "markdown",
      "source": [
        "# images from video"
      ],
      "metadata": {
        "id": "LzuD-5XQSJsm"
      }
    },
    {
      "cell_type": "code",
      "source": [
        "#https://github.com/kannagi0303/yt-dlp-gui\n",
        "#https://github.com/section83/MacYTDL\n",
        "#https://drive.google.com/file/d/1T9S32UwmDnUd6YbxRYfyG7-gud8jh2Y_/view?usp=sharing\n",
        "!gdown https://drive.google.com/uc?id=1T9S32UwmDnUd6YbxRYfyG7-gud8jh2Y_\n"
      ],
      "metadata": {
        "id": "Okg5aIVtSIOW"
      },
      "execution_count": null,
      "outputs": []
    },
    {
      "cell_type": "code",
      "source": [
        "import cv2\n",
        "import os\n",
        "\n",
        "# Path to the video file\n",
        "video_path = 'content-video.mp4'\n",
        "\n",
        "# Create a VideoCapture object\n",
        "cap = cv2.VideoCapture(video_path)\n",
        "\n",
        "# Check if video opened successfully\n",
        "if not cap.isOpened():\n",
        "    print(\"Error: Could not open video.\")\n",
        "    exit()\n",
        "\n",
        "# Directory to save frames\n",
        "save_dir = 'images-video'\n",
        "if not os.path.exists(save_dir):\n",
        "    os.makedirs(save_dir)\n",
        "\n",
        "frame_idx = 0\n",
        "while True:\n",
        "    ret, frame = cap.read()\n",
        "\n",
        "    # Break the loop if there are no more frames\n",
        "    if not ret:\n",
        "        break\n",
        "\n",
        "    # Save every 100th frame\n",
        "    if frame_idx % 100 == 0:\n",
        "        # Filename with 5 leading zeroes\n",
        "        save_path = os.path.join(save_dir, f'frame_{frame_idx:05d}.jpg')\n",
        "        cv2.imwrite(save_path, frame)\n",
        "        print(f'Saved frame {frame_idx:05d}')\n",
        "\n",
        "    frame_idx += 1\n",
        "\n",
        "# Release the VideoCapture object\n",
        "cap.release()\n"
      ],
      "metadata": {
        "id": "H7nXE0Z_TjNa"
      },
      "execution_count": null,
      "outputs": []
    },
    {
      "cell_type": "markdown",
      "source": [
        "# normalize images, preprocessing"
      ],
      "metadata": {
        "id": "fJE3qQvUSTT3"
      }
    },
    {
      "cell_type": "code",
      "source": [
        "import cv2\n",
        "import os\n",
        "import numpy as np\n",
        "\n",
        "def resize_and_crop(img, size):\n",
        "    # Resize image to maintain aspect ratio\n",
        "    h, w, _ = img.shape\n",
        "    if h > w:\n",
        "        new_h, new_w = size * h / w, size\n",
        "    else:\n",
        "        new_h, new_w = size, size * w / h\n",
        "\n",
        "    new_h, new_w = int(new_h), int(new_w)\n",
        "    resized_img = cv2.resize(img, (new_w, new_h))\n",
        "\n",
        "    # Crop the center of the image\n",
        "    startx = new_w//2 - size//2\n",
        "    starty = new_h//2 - size//2\n",
        "    return resized_img[starty:starty+size, startx:startx+size]\n",
        "\n",
        "def normalize_image(img):\n",
        "    # Normalize pixel values to [0, 1]\n",
        "    return img / 255.0\n",
        "\n",
        "directory = 'images-video'\n",
        "output_directory = 'images-normalize'\n",
        "\n",
        "if not os.path.exists(output_directory):\n",
        "    os.makedirs(output_directory)\n",
        "\n",
        "for filename in os.listdir(directory):\n",
        "    if filename.endswith('.jpg'):\n",
        "        img = cv2.imread(os.path.join(directory, filename))\n",
        "        img = resize_and_crop(img, 256)\n",
        "        normalized_img = normalize_image(img)\n",
        "\n",
        "        # Convert the normalized image back to 8-bit format\n",
        "        img_to_save = (normalized_img * 255).astype(np.uint8)\n",
        "\n",
        "        # Save the normalized image\n",
        "        output_path = os.path.join(output_directory, filename)\n",
        "        cv2.imwrite(output_path, img_to_save)\n"
      ],
      "metadata": {
        "id": "G6VlKIbVSIFJ"
      },
      "execution_count": null,
      "outputs": []
    },
    {
      "cell_type": "code",
      "source": [
        "# Read the image using OpenCV\n",
        "image_path = 'images-normalize/frame_00000.jpg'  # Replace with your image path\n",
        "image = cv2.imread(image_path)\n",
        "\n",
        "# Convert the color scheme from BGR to RGB\n",
        "image_rgb = cv2.cvtColor(image, cv2.COLOR_BGR2RGB)\n",
        "\n",
        "# Use Seaborn to improve plot aesthetics\n",
        "sns.set()  # Apply Seaborn styles\n",
        "\n",
        "# Display the image\n",
        "plt.imshow(image_rgb)\n",
        "plt.axis('off')  # Hide the axis\n",
        "plt.show()"
      ],
      "metadata": {
        "id": "3AvhY2nscIRH"
      },
      "execution_count": null,
      "outputs": []
    },
    {
      "cell_type": "code",
      "source": [
        "#!rm images-normalize/*"
      ],
      "metadata": {
        "id": "axJLjEF9hc1q"
      },
      "execution_count": null,
      "outputs": []
    },
    {
      "cell_type": "markdown",
      "source": [
        "# manipulate regions"
      ],
      "metadata": {
        "id": "_3PoncgRiL3X"
      }
    },
    {
      "cell_type": "code",
      "source": [
        "import numpy as np\n",
        "import cv2\n",
        "import seaborn as sns\n",
        "import matplotlib.pyplot as plt\n",
        "\n",
        "# Load your RGB image\n",
        "image_path = 'images-normalize/ibs-92.jpg'  # Replace with your image path\n",
        "image = cv2.imread(image_path)\n",
        "\n",
        "# Ensure the image was loaded\n",
        "if image is None:\n",
        "    print(\"Error: Image not found.\")\n",
        "    exit()\n",
        "\n",
        "# OpenCV reads in BGR format, so convert it to RGB\n",
        "image = cv2.cvtColor(image, cv2.COLOR_BGR2RGB)\n",
        "\n",
        "# Dimensions for the top left quadrant\n",
        "height, width, _ = image.shape\n",
        "top_left_height = height // 2\n",
        "top_left_width = width // 2\n",
        "\n",
        "# Access the green channel (channel 1) in the top left quadrant\n",
        "green_channel = image[:top_left_height, :top_left_width, 1]\n",
        "\n",
        "# Replace intensities over 50 with 255 in the green channel of the top left quadrant\n",
        "green_channel[green_channel > 50] = 255\n",
        "\n",
        "# Update the green channel in the original image's top left quadrant\n",
        "image[:top_left_height, :top_left_width, 1] = green_channel\n",
        "\n",
        "# Display the modified image using seaborn\n",
        "plt.figure(figsize=(8, 6))\n",
        "sns.heatmap(image[:, :, 1], annot=False, cmap='Greens')\n",
        "plt.axis('off')  # Hide the axis\n",
        "plt.title('Modified Image with Adjusted Green Channel in Top Left Quadrant')\n",
        "plt.show()\n",
        "\n"
      ],
      "metadata": {
        "id": "n7YT32V-iQcH"
      },
      "execution_count": null,
      "outputs": []
    },
    {
      "cell_type": "code",
      "source": [
        "import numpy as np\n",
        "import cv2\n",
        "import seaborn as sns\n",
        "import matplotlib.pyplot as plt\n",
        "\n",
        "# Assuming the image is already loaded as a NumPy array in variable 'image'\n",
        "# For demonstration, let's create a sample RGB image\n",
        "#image = np.random.randint(0, 256, (200, 200, 3), dtype=np.uint8)\n",
        "\n",
        "# Load your RGB image\n",
        "image_path = 'images-normalize/ibs-92.jpg'  # Replace with your image path\n",
        "image = cv2.imread(image_path)\n",
        "\n",
        "# Ensure the image was loaded\n",
        "if image is None:\n",
        "    print(\"Error: Image not found.\")\n",
        "    exit()\n",
        "\n",
        "# OpenCV reads in BGR format, so convert it to RGB\n",
        "image = cv2.cvtColor(image, cv2.COLOR_BGR2RGB)\n",
        "\n",
        "# Dimensions for the top left quadrant\n",
        "height, width, _ = image.shape\n",
        "top_left_height = height // 2\n",
        "top_left_width = width // 2\n",
        "\n",
        "# Access the green channel (channel 1) in the top left quadrant\n",
        "green_channel = image[:top_left_height, :top_left_width, 1]\n",
        "\n",
        "# Replace intensities over 50 with 255 in the green channel of the top left quadrant\n",
        "green_channel[green_channel > 150] = 255\n",
        "\n",
        "# Update the green channel in the original image's top left quadrant\n",
        "image[:top_left_height, :top_left_width, 1] = green_channel\n",
        "\n",
        "# Display the original image (with the modified green channel) without heatmap visualization or color maps\n",
        "plt.figure(figsize=(8, 6))\n",
        "plt.imshow(image)\n",
        "plt.axis('off')  # Hide the axis\n",
        "plt.title('Original Image with Altered Green Channel Intensities')\n",
        "plt.show()\n",
        "\n"
      ],
      "metadata": {
        "id": "LVni0-dhk7WD"
      },
      "execution_count": null,
      "outputs": []
    },
    {
      "cell_type": "markdown",
      "source": [
        "# image similarity"
      ],
      "metadata": {
        "id": "egfRdMjByLT_"
      }
    },
    {
      "cell_type": "code",
      "source": [
        "import os\n",
        "from skimage import io, img_as_float\n",
        "from skimage.metrics import structural_similarity as ssim\n",
        "import matplotlib.pyplot as plt\n",
        "import seaborn as sns\n",
        "\n",
        "# Function to calculate SSIM between consecutive images\n",
        "def calculate_ssim(images):\n",
        "    ssim_values = []\n",
        "    for i in range(len(images) - 1):\n",
        "        image1 = img_as_float(images[i])\n",
        "        image2 = img_as_float(images[i + 1])\n",
        "        ssim_value = ssim(image1, image2, multichannel=True)\n",
        "        ssim_values.append(ssim_value)\n",
        "    return ssim_values\n",
        "\n",
        "# Directory containing images\n",
        "image_directory = 'images-normalize'  # Replace with your directory path\n",
        "\n",
        "# Create a list of image file paths\n",
        "image_paths = [os.path.join(image_directory, file) for file in os.listdir(image_directory) if file.lower().endswith(('.png', '.jpg', '.jpeg'))]\n",
        "\n",
        "# Load images from the file paths\n",
        "images = [io.imread(path) for path in image_paths]\n",
        "\n",
        "# Calculate SSIM for each pair of consecutive images\n",
        "ssim_values = calculate_ssim(images)\n",
        "\n",
        "# Plotting the similarity as a function of image number\n",
        "plt.figure(figsize=(10, 6))\n",
        "sns.lineplot(x=range(1, len(ssim_values) + 1), y=ssim_values)\n",
        "plt.xlabel('Image Number')\n",
        "plt.ylabel('SSIM Value')\n",
        "plt.title('Image Similarity as a Function of Image Number')\n",
        "plt.show()\n"
      ],
      "metadata": {
        "id": "Qx7oT1IByJd4"
      },
      "execution_count": null,
      "outputs": []
    },
    {
      "cell_type": "code",
      "source": [
        "from skimage.metrics import structural_similarity as compare_images\n",
        "import cv2\n",
        "\n",
        "# Assuming we have a path to two images, for demonstration let's create two sample images\n",
        "#image1 = (np.random.rand(100, 100, 3) * 255).astype(np.uint8)\n",
        "#image2 = (np.random.rand(100, 100, 3) * 255).astype(np.uint8)\n",
        "image1 = cv2.imread('images-normalize/frame_00000.jpg')\n",
        "image2 = cv2.imread('images-normalize/frame_00100.jpg')\n",
        "\n",
        "# Convert images to grayscale for SSIM computation\n",
        "gray_image1 = cv2.cvtColor(image1, cv2.COLOR_BGR2GRAY)\n",
        "gray_image2 = cv2.cvtColor(image2, cv2.COLOR_BGR2GRAY)\n",
        "\n",
        "# Compute SSIM between the two images, also returning the difference image\n",
        "ssim, difference_image = compare_images(gray_image1, gray_image2, full=True)\n",
        "difference_image = (difference_image * 255).astype(np.uint8)\n",
        "\n",
        "# Plotting the images side by side using seaborn\n",
        "fig, axes = plt.subplots(1, 3, figsize=(15, 5))\n",
        "\n",
        "# Display first image\n",
        "sns.heatmap(gray_image1, ax=axes[0], cbar=False, cmap='gray')\n",
        "axes[0].set_title('Image 1')\n",
        "axes[0].axis('off')\n",
        "\n",
        "# Display second image\n",
        "sns.heatmap(gray_image2, ax=axes[1], cbar=False, cmap='gray')\n",
        "axes[1].set_title('Image 2')\n",
        "axes[1].axis('off')\n",
        "\n",
        "# Display difference image\n",
        "sns.heatmap(difference_image, ax=axes[2], cbar=False, cmap='gray')\n",
        "axes[2].set_title('Difference Image')\n",
        "axes[2].axis('off')\n",
        "\n",
        "plt.show()\n",
        "\n"
      ],
      "metadata": {
        "id": "nBbqd-Ip2lw8"
      },
      "execution_count": null,
      "outputs": []
    },
    {
      "cell_type": "markdown",
      "source": [
        "# image features, sift\n",
        "\n",
        "Scale-Invariant Feature Transform (size and orientation)"
      ],
      "metadata": {
        "id": "UPFeIcky6yM5"
      }
    },
    {
      "cell_type": "code",
      "source": [
        "import cv2\n",
        "import matplotlib.pyplot as plt\n",
        "import seaborn as sns\n",
        "\n",
        "# Read an image using OpenCV\n",
        "image_path = 'images-normalize/frame_00000.jpg'  # Replace with your image path\n",
        "image = cv2.imread(image_path, cv2.IMREAD_GRAYSCALE)\n",
        "# Read an image using OpenCV (For demonstration, using a sample image)\n",
        "#image = np.random.randint(0, 256, (128, 128), dtype=np.uint8)\n",
        "\n",
        "# Initialize SIFT detector\n",
        "sift = cv2.SIFT_create()\n",
        "\n",
        "# Detect SIFT features\n",
        "keypoints, _ = sift.detectAndCompute(image, None)\n",
        "\n",
        "# Draw keypoints on the image with their size and orientation\n",
        "sift_image = cv2.drawKeypoints(image, keypoints, None, flags=cv2.DRAW_MATCHES_FLAGS_DRAW_RICH_KEYPOINTS)\n",
        "\n",
        "# Plotting the original image and SIFT features using seaborn\n",
        "fig, axes = plt.subplots(1, 2, figsize=(12, 6))\n",
        "\n",
        "# Display the original image\n",
        "sns.heatmap(image, ax=axes[0], cbar=False, cmap='gray')\n",
        "axes[0].set_title('Original Image')\n",
        "axes[0].axis('off')\n",
        "\n",
        "# Display the image with SIFT features\n",
        "axes[1].imshow(sift_image, cmap='gray')\n",
        "axes[1].set_title('SIFT Features')\n",
        "axes[1].axis('off')\n",
        "\n",
        "plt.show()\n"
      ],
      "metadata": {
        "id": "z9_3qVL_603t"
      },
      "execution_count": null,
      "outputs": []
    },
    {
      "cell_type": "code",
      "source": [
        "import pandas as pd\n",
        "\n",
        "# Initialize SIFT detector\n",
        "sift = cv2.SIFT_create()\n",
        "\n",
        "# Detect SIFT features\n",
        "keypoints, descriptors = sift.detectAndCompute(image, None)\n",
        "\n",
        "# Extract information from keypoints and store in a pandas DataFrame\n",
        "sift_features = []\n",
        "for kp in keypoints:\n",
        "    sift_features.append({'x': kp.pt[0], 'y': kp.pt[1], 'angle': kp.angle,\n",
        "                          'size': kp.size, 'response': kp.response,\n",
        "                          'octave': kp.octave, 'class_id': kp.class_id})\n",
        "\n",
        "# Create a DataFrame from the SIFT features\n",
        "df_sift_features = pd.DataFrame(sift_features)\n",
        "\n",
        "# Display the DataFrame\n",
        "df_sift_features\n",
        "\n"
      ],
      "metadata": {
        "id": "zvMKP3p6ASOr"
      },
      "execution_count": null,
      "outputs": []
    },
    {
      "cell_type": "markdown",
      "source": [
        "# construct images"
      ],
      "metadata": {
        "id": "FGR7elkAHcHU"
      }
    },
    {
      "cell_type": "code",
      "source": [
        "import numpy as np\n",
        "import cv2\n",
        "import seaborn as sns\n",
        "import matplotlib.pyplot as plt\n",
        "\n",
        "# Create an empty (black) 256x256 image\n",
        "empty_image = np.zeros((256, 256, 3), dtype=np.uint8)\n",
        "\n",
        "# Display the image using seaborn\n",
        "sns.set()  # For a nicer plot style\n",
        "plt.imshow(cv2.cvtColor(empty_image, cv2.COLOR_BGR2RGB))  # Convert BGR to RGB for correct color representation\n",
        "plt.axis('off')  # Hide axis\n",
        "plt.show()"
      ],
      "metadata": {
        "id": "gFubdDbGFZMl"
      },
      "execution_count": null,
      "outputs": []
    },
    {
      "cell_type": "markdown",
      "source": [
        "# manipulate color channels"
      ],
      "metadata": {
        "id": "BLiWH5eBIQLd"
      }
    },
    {
      "cell_type": "code",
      "source": [
        "import numpy as np\n",
        "import seaborn as sns\n",
        "import matplotlib.pyplot as plt\n",
        "\n",
        "# Function to create an image with specified RGB values\n",
        "def create_rgb_image(red, green, blue):\n",
        "    image = np.zeros((256, 256, 3), dtype=np.uint8)\n",
        "    image[:, :, 0] = red    # Red channel\n",
        "    image[:, :, 1] = green  # Green channel\n",
        "    image[:, :, 2] = blue   # Blue channel\n",
        "    return image\n",
        "\n",
        "# Creating images for each combination\n",
        "combinations = [\n",
        "    (0, 0, 0),    # Black\n",
        "    (255, 0, 0),  # Red\n",
        "    (0, 255, 0),  # Green\n",
        "    (0, 0, 255),  # Blue\n",
        "    (255, 255, 0),# Yellow\n",
        "    (255, 0, 255),# Magenta\n",
        "    (0, 255, 255),# Cyan\n",
        "    (255, 255, 255)# White\n",
        "]\n",
        "\n",
        "images = [create_rgb_image(*combo) for combo in combinations]\n",
        "\n",
        "# Plotting\n",
        "sns.set()  # For a nicer plot style\n",
        "plt.figure(figsize=(12, 6))\n",
        "\n",
        "for i, img in enumerate(images):\n",
        "    plt.subplot(2, 4, i + 1)\n",
        "    plt.imshow(img)\n",
        "    plt.axis('off')\n",
        "    plt.title(f'R:{combinations[i][0]} G:{combinations[i][1]} B:{combinations[i][2]}')\n",
        "\n",
        "plt.tight_layout()\n",
        "plt.show()\n"
      ],
      "metadata": {
        "id": "If5CQxwqID-a"
      },
      "execution_count": null,
      "outputs": []
    },
    {
      "cell_type": "markdown",
      "source": [
        "# manipulate shapes"
      ],
      "metadata": {
        "id": "bxQRQmFhIhbU"
      }
    },
    {
      "cell_type": "code",
      "source": [
        "import numpy as np\n",
        "import cv2\n",
        "import seaborn as sns\n",
        "import matplotlib.pyplot as plt\n",
        "\n",
        "# Start with a black image\n",
        "image = np.zeros((256, 256, 3), dtype=np.uint8)\n",
        "\n",
        "# List to store each step\n",
        "images = [image.copy()]\n",
        "\n",
        "# Add a red line\n",
        "image_with_line = image.copy()\n",
        "cv2.line(image_with_line, (50, 50), (200, 50), (255, 0, 0), 3)  # Red line\n",
        "images.append(image_with_line)\n",
        "\n",
        "# Add a green rectangle\n",
        "image_with_rectangle = image_with_line.copy()\n",
        "cv2.rectangle(image_with_rectangle, (60, 80), (180, 150), (0, 255, 0), 3)  # Green rectangle\n",
        "images.append(image_with_rectangle)\n",
        "\n",
        "# Add a blue oval\n",
        "image_with_oval = image_with_rectangle.copy()\n",
        "cv2.ellipse(image_with_oval, (120, 200), (60, 30), 0, 0, 360, (0, 0, 255), -1)  # Blue oval\n",
        "images.append(image_with_oval)\n",
        "\n",
        "# Plotting\n",
        "sns.set()  # For a nicer plot style\n",
        "plt.figure(figsize=(12, 6))\n",
        "\n",
        "shape_titles = [\"Original\", \"With Line\", \"With Rectangle\", \"With Oval\"]\n",
        "for i, img in enumerate(images):\n",
        "    plt.subplot(1, len(images), i + 1)\n",
        "    plt.imshow(cv2.cvtColor(img, cv2.COLOR_BGR2RGB))  # Convert BGR to RGB\n",
        "    plt.axis('off')\n",
        "    plt.title(shape_titles[i])\n",
        "\n",
        "plt.tight_layout()\n",
        "plt.show()\n"
      ],
      "metadata": {
        "id": "OyDcg9ZSIXM-"
      },
      "execution_count": null,
      "outputs": []
    },
    {
      "cell_type": "markdown",
      "source": [
        "# manipulate pixel regions"
      ],
      "metadata": {
        "id": "gBKMfPuUI9oV"
      }
    },
    {
      "cell_type": "code",
      "source": [
        "import numpy as np\n",
        "import seaborn as sns\n",
        "import matplotlib.pyplot as plt\n",
        "\n",
        "# Create an initial black image\n",
        "black_image = np.zeros((256, 256, 3), dtype=np.uint8)\n",
        "\n",
        "# Function to add a colored square to an existing image at a specified position\n",
        "def add_square_to_image(image, color, position, square_size=50):\n",
        "    x_start, y_start = position\n",
        "    image_with_square = image.copy()\n",
        "    image_with_square[y_start:y_start + square_size, x_start:x_start + square_size] = color\n",
        "    return image_with_square\n",
        "\n",
        "# Add a red square in the top left corner\n",
        "red = [255, 0, 0]\n",
        "image_red_square = add_square_to_image(black_image, red, (0, 0))\n",
        "\n",
        "# Plotting both images side by side\n",
        "sns.set()  # For a nicer plot style\n",
        "plt.figure(figsize=(10, 5))\n",
        "\n",
        "# Plot original black image\n",
        "plt.subplot(1, 2, 1)\n",
        "plt.imshow(black_image)\n",
        "plt.axis('off')\n",
        "plt.title(\"Original Black Image\")\n",
        "\n",
        "# Plot image with red square\n",
        "plt.subplot(1, 2, 2)\n",
        "plt.imshow(image_red_square)\n",
        "plt.axis('off')\n",
        "plt.title(\"Image with Red Square\")\n",
        "\n",
        "plt.tight_layout()\n",
        "plt.show()\n"
      ],
      "metadata": {
        "id": "yE28YheqIj2S"
      },
      "execution_count": null,
      "outputs": []
    },
    {
      "cell_type": "markdown",
      "source": [
        "# image features"
      ],
      "metadata": {
        "id": "3H62q5HPNBuc"
      }
    },
    {
      "cell_type": "code",
      "source": [
        "import cv2\n",
        "import numpy as np\n",
        "import matplotlib.pyplot as plt\n",
        "import seaborn as sns\n",
        "\n",
        "# Read the image\n",
        "image = cv2.imread('images/ibs-92.jpg')\n",
        "\n",
        "# Calculate color histograms for each channel\n",
        "hist_r = cv2.calcHist([image], [0], None, [256], [0, 256])\n",
        "hist_g = cv2.calcHist([image], [1], None, [256], [0, 256])\n",
        "hist_b = cv2.calcHist([image], [2], None, [256], [0, 256])\n",
        "\n",
        "# Normalize histograms\n",
        "hist_r /= hist_r.sum()\n",
        "hist_g /= hist_g.sum()\n",
        "hist_b /= hist_b.sum()\n",
        "\n",
        "# Create subplots for the original image and histograms\n",
        "fig, axes = plt.subplots(1, 2, figsize=(12, 4))\n",
        "\n",
        "# Plot the original image\n",
        "axes[0].imshow(cv2.cvtColor(image, cv2.COLOR_BGR2RGB))\n",
        "axes[0].set_title('Original Image')\n",
        "axes[0].axis('off')\n",
        "\n",
        "# Plot the color histograms using Seaborn\n",
        "sns.lineplot(x=np.arange(256), y=hist_r.squeeze(), color='red', ax=axes[1], label='Red')\n",
        "sns.lineplot(x=np.arange(256), y=hist_g.squeeze(), color='green', ax=axes[1], label='Green')\n",
        "sns.lineplot(x=np.arange(256), y=hist_b.squeeze(), color='blue', ax=axes[1], label='Blue')\n",
        "axes[1].set_title('Color Histograms')\n",
        "axes[1].set_xlabel('Pixel Value')\n",
        "axes[1].set_ylabel('Frequency')\n",
        "axes[1].legend()\n",
        "\n",
        "# Show the plots\n",
        "plt.tight_layout()\n",
        "plt.show()\n"
      ],
      "metadata": {
        "id": "8eRXDmKMI70M"
      },
      "execution_count": null,
      "outputs": []
    },
    {
      "cell_type": "code",
      "source": [
        "import cv2\n",
        "import numpy as np\n",
        "from google.colab.patches import cv2_imshow\n",
        "\n",
        "# Read the image\n",
        "image = cv2.imread('images/ibs-92.jpg', cv2.IMREAD_GRAYSCALE)\n",
        "\n",
        "# Define edge detection settings\n",
        "edge_detection_settings = [\n",
        "    ('Canny', cv2.Canny(image, 50, 150)),\n",
        "#    ('Laplacian', cv2.Laplacian(image, cv2.CV_64F)),\n",
        "    ('Sobel_X', cv2.Sobel(image, cv2.CV_64F, 1, 0, ksize=5)),\n",
        "    ('Sobel_Y', cv2.Sobel(image, cv2.CV_64F, 0, 1, ksize=5))\n",
        "]\n",
        "\n",
        "# Iterate through edge detection settings\n",
        "for setting_name, edges in edge_detection_settings:\n",
        "    # Convert the edges to binary (keeping them in 0-255 range)\n",
        "    edges_binary = np.where(edges > 0, 255, 0).astype(np.uint8)\n",
        "\n",
        "    # Count the number of white edge pixels\n",
        "    white_pixel_count = cv2.countNonZero(edges_binary)\n",
        "\n",
        "    # Concatenate the original image and binary edge image horizontally\n",
        "    concatenated_image = np.hstack((image, edges_binary))\n",
        "\n",
        "    # Display the concatenated image using cv2_imshow\n",
        "    print(f'Edge Detection Algorithm: {setting_name}')\n",
        "    cv2_imshow(concatenated_image)\n",
        "    print(f'Number of white edge pixels: {white_pixel_count}\\n')\n",
        "\n",
        "    # Save the concatenated image with the specified filename prefix\n",
        "    filename = f'edges_{setting_name}.jpg'\n",
        "    cv2.imwrite(filename, concatenated_image)\n",
        "\n",
        "    print(f'Saved as {filename}\\n')\n"
      ],
      "metadata": {
        "id": "grITOIWwJyok"
      },
      "execution_count": null,
      "outputs": []
    },
    {
      "cell_type": "markdown",
      "source": [
        "# kernel images and convolutions"
      ],
      "metadata": {
        "id": "oQZjhc_vSd82"
      }
    },
    {
      "cell_type": "code",
      "source": [
        "import numpy as np\n",
        "import seaborn as sns\n",
        "import matplotlib.pyplot as plt\n",
        "\n",
        "# Horizontal Sobel Kernel (detects vertical edges)\n",
        "sobel_x = np.array([[-1, 0, 1],\n",
        "                    [-2, 0, 2],\n",
        "                    [-1, 0, 1]])\n",
        "\n",
        "# Vertical Sobel Kernel (detects horizontal edges)\n",
        "sobel_y = np.array([[-1, -2, -1],\n",
        "                    [ 0,  0,  0],\n",
        "                    [ 1,  2,  1]])\n",
        "\n",
        "# Plot the kernels\n",
        "fig, ax = plt.subplots(1, 2, figsize=(10, 5))\n",
        "sns.heatmap(sobel_x, annot=True, cmap='coolwarm', ax=ax[0], cbar=False)\n",
        "ax[0].set_title('Horizontal Sobel Kernel')\n",
        "sns.heatmap(sobel_y, annot=True, cmap='coolwarm', ax=ax[1], cbar=False)\n",
        "ax[1].set_title('Vertical Sobel Kernel')\n",
        "plt.show()\n"
      ],
      "metadata": {
        "id": "Bbgm3a6DLcgN"
      },
      "execution_count": null,
      "outputs": []
    },
    {
      "cell_type": "code",
      "source": [],
      "metadata": {
        "id": "fIGlHND8SI64"
      },
      "execution_count": null,
      "outputs": []
    }
  ]
}