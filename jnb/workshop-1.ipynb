{
  "cells": [
    {
      "cell_type": "markdown",
      "metadata": {},
      "source": [
        "## Introduction\n",
        "\n",
        "{{< include _include_model.qmd >}}"
      ]
    },
    {
      "cell_type": "code",
      "metadata": {},
      "source": [
        "#| echo: false\n",
        "#| output: false\n",
        "\n",
        "import pandas as pd\n",
        "# For CSV\n",
        "data_csv = pd.read_csv(\"/home/sol-nhl/dev/r-cran/scom-r/csv/cod.csv\", sep='\\t')\n",
        "\n",
        "# For SPSS\n",
        "# Assuming pyreadstat is installed. If not, you need to install it using: \n",
        "#!pip install pyreadstat\n",
        "import pyreadstat\n",
        "data_spss, meta = pyreadstat.read_sav(\"/home/sol-nhl/dev/r-cran/scom-r/tmp/cod-220321.sav\")"
      ],
      "execution_count": null,
      "outputs": []
    },
    {
      "cell_type": "markdown",
      "metadata": {},
      "source": [
        "{{< include _include_links.qmd >}}\n",
        "\n",
        "# Workshop: Descriptive statistics\n",
        "\n",
        "## Finding your way around SPSS\n",
        "\n",
        "  a. Open the dataset. Go to variable view in the data window. Take a look at the variable `Gender` (nr 2). What are the possible values of this variable?"
      ]
    },
    {
      "cell_type": "code",
      "metadata": {},
      "source": [
        "#| echo: false\n",
        "#| output: true\n",
        "data_spss['Gender'].value_counts(dropna=False)\n",
        "data_spss['Gender'].size"
      ],
      "execution_count": null,
      "outputs": []
    },
    {
      "cell_type": "markdown",
      "metadata": {},
      "source": [
        "  b. Inspect the variable `femcomm_mgmt` (nr 32). What does this `variable` measure? What are the possible values?"
      ]
    },
    {
      "cell_type": "code",
      "metadata": {},
      "source": [
        "#| echo: false\n",
        "#| output: true\n",
        "data_spss['femcomm_mgmt'].value_counts(dropna=False)"
      ],
      "execution_count": null,
      "outputs": []
    },
    {
      "cell_type": "markdown",
      "metadata": {},
      "source": [
        "## First steps: visualizing the data\n",
        "\n",
        "  a. Inspect the variable Gender (nr 2) and create a pie chart. Choose: <code>Analyze -> Descriptive statistics -> Frequencies</code> in the drop-down menu. Find Gender in the list of variables. You can either double-click it or mark it and click the arrow. Choose: <code>Charts -> Pie chart -> Continue -> OK</code>. Observe the results in the Output window. What is the distribution of gender in the sample? Is a pie chart a good way of visualizing this variable? Note: 999 indicates that the respondent did..."
      ]
    },
    {
      "cell_type": "code",
      "metadata": {},
      "source": [
        "#| echo: false\n",
        "#| output: true\n",
        "import matplotlib.pyplot as plt\n",
        "data_spss['Gender'].value_counts().plot.pie()\n",
        "plt.show()"
      ],
      "execution_count": null,
      "outputs": []
    },
    {
      "cell_type": "markdown",
      "metadata": {},
      "source": [
        "  b. Repeat step a using the variable femcomm_mgmt (nr 32), but create a bar chart instead of a pie chart. Choose: <code>Analyze -> Descriptive statistics -> Frequencies -> Charts -> Bar chart</code>. Observe: by right-clicking the list of variables in the pop-up window, you can choose whether you want the variables displayed by label or name. How did the respondents of the survey answer this question? How many respondents answered this question?"
      ]
    },
    {
      "cell_type": "code",
      "metadata": {},
      "source": [
        "#| echo: false\n",
        "#| output: true\n",
        "data_spss['femcomm_mgmt'].value_counts(dropna=False).plot.bar()\n",
        "plt.show()"
      ],
      "execution_count": null,
      "outputs": []
    },
    {
      "cell_type": "markdown",
      "metadata": {},
      "source": [
        "  c. Inspect the variable <code>Role</code> (nr 5). Create a bar chart. Observer the numbers of communicators in the survey and compare the number to the number of valid responses for femcomm_mgmt (nr 32)."
      ]
    },
    {
      "cell_type": "code",
      "metadata": {},
      "source": [
        "#| echo: false\n",
        "#| output: true\n",
        "data_spss['Role'].value_counts(dropna=False).plot.bar()\n",
        "plt.show()"
      ],
      "execution_count": null,
      "outputs": []
    },
    {
      "cell_type": "markdown",
      "metadata": {},
      "source": [
        "## Compare means\n",
        "\n",
        "  a. Do employees of different age perceive gossiping at the workplace differently? Let's find out! Compare the mean age for different responses to the statement \"Gossiping is a problem within the organization\" (<code>org_gossip</code>, nr. 17). Choose: <code>Analyze -> Compare means -> Means</code> from the drop-down menu. Insert Age in the box titled Dependent list and org_gossip in the box titled Independent list. Click OK. (Note: this does not mean that we actually believe that Age is the dependent variable here, since your opinions on gossiping can have no effect on your age. This is only a practical way for us to find out age differences.)"
      ]
    },
    {
      "cell_type": "code",
      "metadata": {},
      "source": [
        "#| echo: false\n",
        "#| output: true\n",
        "data_spss.groupby('org_gossip')['Age'].mean()"
      ],
      "execution_count": null,
      "outputs": []
    },
    {
      "cell_type": "markdown",
      "metadata": {},
      "source": [
        "**THAT'S IT FOR TODAY! REMEMBER TO SAVE YOUR DATA AND OUTPUT FILES (THOSE ARE TWO DIFFERENT OPERATIONS)!**\n",
        "\n",
        "# Workshop: Data transformation\n",
        "\n",
        "- [https://nils-holmberg.github.io/scom-r/edu/scom-skoc62/workshop-2.html](https://nils-holmberg.github.io/scom-r/edu/scom-skoc62/workshop-2.html)\n",
        "\n",
        "# Workshop: Bivariate analysis\n",
        "\n",
        "- [https://nils-holmberg.github.io/scom-r/edu/scom-skoc62/workshop-3.html](https://nils-holmberg.github.io/scom-r/edu/scom-skoc62/workshop-3.html)\n",
        "\n",
        "# Workshop: Multivariate analysis\n",
        "\n",
        "- [https://nils-holmberg.github.io/scom-r/edu/scom-skoc62/workshop-4.html](https://nils-holmberg.github.io/scom-r/edu/scom-skoc62/workshop-4.html)"
      ]
    },
    {
      "cell_type": "markdown",
      "metadata": {},
      "source": [
        "---\n",
        "\n",
        "- [scom-r website](https://nils-holmberg.github.io/scom-r/)"
      ]
    }
  ],
  "metadata": {
    "kernelspec": {
      "name": "python3",
      "language": "python",
      "display_name": "Python 3 (ipykernel)"
    }
  },
  "nbformat": 4,
  "nbformat_minor": 4
}